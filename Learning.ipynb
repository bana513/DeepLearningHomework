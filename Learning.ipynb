{
 "cells": [
  {
   "cell_type": "code",
   "execution_count": 1,
   "metadata": {},
   "outputs": [
    {
     "name": "stdout",
     "output_type": "stream",
     "text": [
      "{'date': 1483228800, 'high': 965.00000066, 'low': 964.00000002, 'open': 965.00000055, 'close': 964.00000127, 'volume': 5398.83711674, 'quoteVolume': 5.59672254, 'weightedAverage': 964.64262399}\n"
     ]
    }
   ],
   "source": [
    "import urllib.request, json \n",
    "\n",
    "# 5min BTC/USDT chart form Poloniex since 2017-01-01T00:00:00+00:00 till 2018-10-14T20:00:00+00:00\n",
    "with urllib.request.urlopen(\"https://poloniex.com/public?command=returnChartData&currencyPair=USDT_BTC&start=1483228800&end=1539547200&period=300\") as url:\n",
    "    data = json.loads(url.read().decode())\n",
    "\n",
    "print(data[0])"
   ]
  },
  {
   "cell_type": "code",
   "execution_count": 85,
   "metadata": {},
   "outputs": [
    {
     "data": {
      "text/html": [
       "<div>\n",
       "<style scoped>\n",
       "    .dataframe tbody tr th:only-of-type {\n",
       "        vertical-align: middle;\n",
       "    }\n",
       "\n",
       "    .dataframe tbody tr th {\n",
       "        vertical-align: top;\n",
       "    }\n",
       "\n",
       "    .dataframe thead th {\n",
       "        text-align: right;\n",
       "    }\n",
       "</style>\n",
       "<table border=\"1\" class=\"dataframe\">\n",
       "  <thead>\n",
       "    <tr style=\"text-align: right;\">\n",
       "      <th></th>\n",
       "      <th>date</th>\n",
       "      <th>open</th>\n",
       "      <th>high</th>\n",
       "      <th>low</th>\n",
       "      <th>close</th>\n",
       "      <th>volume</th>\n",
       "    </tr>\n",
       "  </thead>\n",
       "  <tbody>\n",
       "    <tr>\n",
       "      <th>0</th>\n",
       "      <td>1483258800</td>\n",
       "      <td>965.615287</td>\n",
       "      <td>965.615287</td>\n",
       "      <td>962.720039</td>\n",
       "      <td>962.720050</td>\n",
       "      <td>339.976571</td>\n",
       "    </tr>\n",
       "    <tr>\n",
       "      <th>1</th>\n",
       "      <td>1483259100</td>\n",
       "      <td>965.615288</td>\n",
       "      <td>965.615288</td>\n",
       "      <td>963.715702</td>\n",
       "      <td>964.000000</td>\n",
       "      <td>2053.800107</td>\n",
       "    </tr>\n",
       "    <tr>\n",
       "      <th>2</th>\n",
       "      <td>1483259400</td>\n",
       "      <td>965.584776</td>\n",
       "      <td>965.584776</td>\n",
       "      <td>963.669103</td>\n",
       "      <td>965.584776</td>\n",
       "      <td>26.914038</td>\n",
       "    </tr>\n",
       "    <tr>\n",
       "      <th>3</th>\n",
       "      <td>1483259700</td>\n",
       "      <td>963.669114</td>\n",
       "      <td>965.584775</td>\n",
       "      <td>963.669114</td>\n",
       "      <td>965.584775</td>\n",
       "      <td>405.889147</td>\n",
       "    </tr>\n",
       "    <tr>\n",
       "      <th>4</th>\n",
       "      <td>1483260000</td>\n",
       "      <td>963.669121</td>\n",
       "      <td>963.669121</td>\n",
       "      <td>963.669121</td>\n",
       "      <td>963.669121</td>\n",
       "      <td>30.485711</td>\n",
       "    </tr>\n",
       "  </tbody>\n",
       "</table>\n",
       "</div>"
      ],
      "text/plain": [
       "         date        open        high         low       close       volume\n",
       "0  1483258800  965.615287  965.615287  962.720039  962.720050   339.976571\n",
       "1  1483259100  965.615288  965.615288  963.715702  964.000000  2053.800107\n",
       "2  1483259400  965.584776  965.584776  963.669103  965.584776    26.914038\n",
       "3  1483259700  963.669114  965.584775  963.669114  965.584775   405.889147\n",
       "4  1483260000  963.669121  963.669121  963.669121  963.669121    30.485711"
      ]
     },
     "execution_count": 85,
     "metadata": {},
     "output_type": "execute_result"
    }
   ],
   "source": [
    "import csv\n",
    "import numpy as np\n",
    "import pandas as pd\n",
    "\n",
    "\n",
    "# df = pd.DataFrame(data=data, columns=['date', 'weightedAverage', 'low', 'high', 'open', 'close', 'quoteVolume'])\n",
    "\n",
    "# df = df.fillna(method='ffill')\n",
    "# df.to_csv(\"poloniex_usdt_btc_20170101_weightedAverage_300.csv\", sep=\";\", index=False)\n",
    "\n",
    "# Data already downloaded\n",
    "# df = pd.read_csv(\"poloniex_usdt_btc_20170101_DOHLCV_300_indicators.csv\", sep=\";\", index_col=None)\n",
    "\n",
    "df = pd.read_csv(\"poloniex_usdt_btc_20170101_DOHLCV_300.csv\", sep=\";\", index_col=None)\n",
    "\n",
    "df.head()"
   ]
  },
  {
   "cell_type": "code",
   "execution_count": 86,
   "metadata": {},
   "outputs": [
    {
     "name": "stdout",
     "output_type": "stream",
     "text": [
      "(187629, 6)\n"
     ]
    }
   ],
   "source": [
    "# df = df[-60000:]\n",
    "print(df.shape)"
   ]
  },
  {
   "cell_type": "code",
   "execution_count": 87,
   "metadata": {},
   "outputs": [],
   "source": [
    "# Turn dataframe into a numpy floating point array\n",
    "df_values = df.values\n",
    "timestamps = df_values[:, 0]\n",
    "dataset = df_values[:, 1:].astype(\"float\")"
   ]
  },
  {
   "cell_type": "code",
   "execution_count": 88,
   "metadata": {},
   "outputs": [
    {
     "name": "stdout",
     "output_type": "stream",
     "text": [
      "(168866, 5)\n",
      "(9381, 5)\n",
      "(9382, 5)\n"
     ]
    }
   ],
   "source": [
    "# Split the dataset into training (90%), cross validation (5%) and test (5%) set\n",
    "samples_num = dataset.shape[0]\n",
    "\n",
    "valid_split = 0.05\n",
    "test_split = 0.05\n",
    "\n",
    "dataset_train = dataset[0:int(samples_num * (1-valid_split-test_split))]\n",
    "dataset_valid = dataset[int(samples_num * (1-valid_split-test_split)):int(samples_num * (1-test_split))]\n",
    "dataset_test = dataset[int(samples_num * (1-test_split)):samples_num]\n",
    "\n",
    "print(dataset_train.shape)\n",
    "print(dataset_valid.shape)\n",
    "print(dataset_test.shape)"
   ]
  },
  {
   "cell_type": "code",
   "execution_count": 121,
   "metadata": {},
   "outputs": [],
   "source": [
    "# Makes a training examples from year data with a timesteps window size\n",
    "\n",
    "def makeXy(data, timesteps):\n",
    "    X = []\n",
    "    y = []\n",
    "    \n",
    "    for i in range(timesteps, data.shape[0]-2):\n",
    "        X.append(list(data[i-timesteps:i]))\n",
    "        \n",
    "        y.append(sum(data[i:i+2])/2)\n",
    "        \n",
    "    X, y = np.array(X), np.array(y)\n",
    "    return X, y"
   ]
  },
  {
   "cell_type": "code",
   "execution_count": 122,
   "metadata": {},
   "outputs": [
    {
     "name": "stdout",
     "output_type": "stream",
     "text": [
      "(168614, 250, 5)\n",
      "(168614, 5)\n"
     ]
    }
   ],
   "source": [
    "import numpy as np\n",
    "\n",
    "timestep = 250 # Make decision from last 'timestep' candles\n",
    "\n",
    "# Create training examples\n",
    "\n",
    "train_X, train_y = makeXy(dataset_train, timestep)\n",
    "valid_X, valid_y = makeXy(dataset_valid, timestep)\n",
    "test_X, test_y = makeXy(dataset_test, timestep)\n",
    "    \n",
    "train_y = train_y[:, :5]\n",
    "valid_y = valid_y[:, :5]\n",
    "test_y = test_y[:, :5]\n",
    "    \n",
    "print(train_X.shape)\n",
    "print(train_y.shape)"
   ]
  },
  {
   "cell_type": "code",
   "execution_count": 123,
   "metadata": {},
   "outputs": [
    {
     "name": "stdout",
     "output_type": "stream",
     "text": [
      "(168614, 250, 5)\n",
      "(168614, 1, 5)\n"
     ]
    }
   ],
   "source": [
    "print(train_X.shape)\n",
    "train_y = np.expand_dims(train_y, axis=1)\n",
    "valid_y = np.expand_dims(valid_y, axis=1)\n",
    "test_y = np.expand_dims(test_y, axis=1)\n",
    "print(train_y.shape)"
   ]
  },
  {
   "cell_type": "code",
   "execution_count": 124,
   "metadata": {},
   "outputs": [],
   "source": [
    "from sklearn.preprocessing import MinMaxScaler\n",
    "\n",
    "for i in range(train_X.shape[0]):\n",
    "    scaler = MinMaxScaler().fit(np.array(train_X[i]))\n",
    "    train_X[i] = scaler.transform(train_X[i])\n",
    "    train_y[i] = scaler.transform(train_y[i])\n",
    "    \n",
    "for i in range(valid_X.shape[0]):\n",
    "    scaler = MinMaxScaler().fit(np.array(valid_X[i]))\n",
    "    valid_X[i] = scaler.transform(valid_X[i])\n",
    "    valid_y[i] = scaler.transform(valid_y[i])\n",
    "    \n",
    "for i in range(test_X.shape[0]):\n",
    "    scaler = MinMaxScaler().fit(np.array(test_X[i]))\n",
    "    test_X[i] = scaler.transform(test_X[i])\n",
    "    test_y[i] = scaler.transform(test_y[i])\n"
   ]
  },
  {
   "cell_type": "code",
   "execution_count": 125,
   "metadata": {},
   "outputs": [
    {
     "name": "stdout",
     "output_type": "stream",
     "text": [
      "(168614, 250, 5)\n",
      "(168614, 1, 5)\n",
      "[[3.58801664e-02 3.58206067e-02 0.00000000e+00 0.00000000e+00\n",
      "  3.52448431e-03]\n",
      " [3.58801937e-02 3.58206339e-02 1.83431070e-02 2.31917293e-02\n",
      "  2.12914267e-02]\n",
      " [3.53176690e-02 3.52590409e-02 1.74846086e-02 5.19066629e-02\n",
      "  2.79013656e-04]\n",
      " ...\n",
      " [9.70317594e-01 9.95397438e-01 9.87103897e-01 9.72639947e-01\n",
      "  3.17618758e-03]\n",
      " [9.78650791e-01 9.95397443e-01 9.78891289e-01 9.62750827e-01\n",
      "  1.41637252e-03]\n",
      " [9.83222988e-01 9.81594261e-01 1.00000000e+00 9.83511491e-01\n",
      "  6.93423606e-04]]\n",
      "[[0.98322299 1.         0.98848562 0.99243518 0.01546362]]\n"
     ]
    }
   ],
   "source": [
    "print(train_X.shape)\n",
    "print(train_y.shape)\n",
    "\n",
    "print(train_X[0])\n",
    "print(train_y[0])"
   ]
  },
  {
   "cell_type": "code",
   "execution_count": 126,
   "metadata": {},
   "outputs": [
    {
     "data": {
      "image/png": "[encoded data removed]",
      "text/plain": [
       "<Figure size 1296x360 with 1 Axes>"
      ]
     },
     "metadata": {
      "needs_background": "light"
     },
     "output_type": "display_data"
    },
    {
     "data": {
      "image/png": "[encoded data removed]",
      "text/plain": [
       "<Figure size 1296x360 with 1 Axes>"
      ]
     },
     "metadata": {
      "needs_background": "light"
     },
     "output_type": "display_data"
    }
   ],
   "source": [
    "import matplotlib.pyplot as plt\n",
    "%matplotlib inline\n",
    "\n",
    "plt.figure(figsize=(18, 5))\n",
    "plt.title('Close - original')\n",
    "plt.plot(dataset[:,3])\n",
    "plt.show()\n",
    "\n",
    "plt.figure(figsize=(18, 5))\n",
    "plt.title('Close - scaled')\n",
    "plt.plot(train_X[0,:,3])\n",
    "plt.show()"
   ]
  },
  {
   "cell_type": "code",
   "execution_count": 127,
   "metadata": {},
   "outputs": [],
   "source": [
    "import tensorflow as tf\n",
    "from keras import backend as K\n",
    "\n",
    "num_cores = 6\n",
    "\n",
    "num_CPU = 1\n",
    "num_GPU = 1\n",
    "\n",
    "config = tf.ConfigProto(intra_op_parallelism_threads=num_cores,\\\n",
    "        inter_op_parallelism_threads=num_cores, allow_soft_placement=True,\\\n",
    "        device_count = {'CPU' : num_CPU, 'GPU' : num_GPU})\n",
    "config.gpu_options.allow_growth = True\n",
    "session = tf.Session(config=config)\n",
    "K.set_session(session)\n",
    "\n",
    "from keras.models import Sequential, Model\n",
    "from keras.layers.core import Dense, Activation\n",
    "from keras.callbacks import Callback\n",
    "from keras.optimizers import Adam\n",
    "from keras.layers import Dropout, Conv1D, Flatten, MaxPooling1D, LSTM, BatchNormalization, Input, Lambda, TimeDistributed\n",
    "from keras import regularizers\n",
    "from tensorflow import set_random_seed\n",
    "\n",
    "# Set random seed to always predict the same values\n",
    "np.random.seed(1)\n",
    "set_random_seed(2) # Tensoflow"
   ]
  },
  {
   "cell_type": "code",
   "execution_count": 128,
   "metadata": {},
   "outputs": [],
   "source": [
    "# Saving loss and acc values\n",
    "\n",
    "class TrainingHistory(Callback):\n",
    "\n",
    "    def on_train_begin(self, logs={}):\n",
    "        self.losses = []\n",
    "        self.valid_losses = []\n",
    "        self.accs = []\n",
    "        self.valid_accs = []\n",
    "        self.epoch = 0\n",
    "    \n",
    "    def on_epoch_end(self, epoch, logs={}):\n",
    "        self.losses.append(logs.get('loss'))\n",
    "        self.valid_losses.append(logs.get('val_loss'))\n",
    "        self.accs.append(logs.get('acc'))\n",
    "        self.valid_accs.append(logs.get('val_acc'))\n",
    "        self.epoch += 1\n",
    "            \n",
    "history = TrainingHistory()"
   ]
  },
  {
   "cell_type": "code",
   "execution_count": 129,
   "metadata": {},
   "outputs": [
    {
     "name": "stdout",
     "output_type": "stream",
     "text": [
      "(168614, 250, 5)\n",
      "(168614, 1, 5)\n",
      "(168614, 5)\n"
     ]
    }
   ],
   "source": [
    "# train_X = np.expand_dims(train_X, axis=2)\n",
    "print(train_X.shape)\n",
    "print(train_y.shape)\n",
    "\n",
    "train_y = train_y.reshape(-1,5)\n",
    "valid_y = valid_y.reshape(-1,5)\n",
    "test_y = test_y.reshape(-1,5)\n",
    "\n",
    "print(train_y.shape)"
   ]
  },
  {
   "cell_type": "code",
   "execution_count": 130,
   "metadata": {},
   "outputs": [],
   "source": [
    "# Create model\n",
    "model = Sequential()\n",
    "\n",
    "# model.add(Conv1D(kernel_size = (3), filters = 64, input_shape=train_X[0].shape, activation='relu'))\n",
    "# model.add(MaxPooling1D(pool_size = (2), strides=(2)))\n",
    "# model.add(Conv1D(kernel_size = (3), filters = 64, activation='relu'))\n",
    "# model.add(MaxPooling1D(pool_size = (2), strides=(2)))\n",
    "# model.add(Dense(512, activation='relu'))\n",
    "# model.add(LSTM(128, input_shape=train_X[0].shape))\n",
    "# # model.add(Flatten(input_shape=train_X[0].shape))\n",
    "# model.add(Dense(512, activation='relu'))\n",
    "# model.add(Dense(256, activation='relu'))\n",
    "# model.add(Dense(train_y[0].shape[0]))\n",
    "\n",
    "# 0.0037\n",
    "# model.add(LSTM(128, return_sequences = True, input_shape = train_X[0].shape))\n",
    "# model.add(TimeDistributed(Dense(1)))\n",
    "# model.add(LSTM(128, return_sequences = True))\n",
    "# model.add(TimeDistributed(Dense(1)))\n",
    "# model.add(LSTM(64))\n",
    "# model.add(Dense(256, activation='relu'))\n",
    "# model.add(Dense(128, activation='relu'))\n",
    "# model.add(Dense(train_y[0].shape[0]))\n",
    "\n",
    "model.add(LSTM(128, input_shape=train_X[0].shape))\n",
    "model.add(Dense(256, activation='relu'))\n",
    "model.add(Dense(256, activation='relu'))\n",
    "model.add(Dense(256, activation='relu'))\n",
    "model.add(Dense(256, activation='relu'))\n",
    "model.add(Dense(train_y[0].shape[0]))\n",
    "\n",
    "# Kurva jó első próbálkozás\n",
    "# model.add(LSTM(128, input_shape=train_X[0].shape))\n",
    "# model.add(Dense(256, activation='relu'))\n",
    "# model.add(Dense(train_y[0].shape[0]))\n",
    "\n",
    "# # model.add(Dropout(0.3))\n",
    "# model.add(Dense(128, activation='relu'))\n",
    "# # model.add(BatchNormalization())\n",
    "# # model.add(Dropout(0.3))\n",
    "# model.add(Dense(128, activation='relu'))\n",
    "# # model.add(BatchNormalization())\n",
    "# # model.add(Dropout(0.3))\n",
    "# # model.add(Dense(256, activation='relu'))\n",
    "# model.add(Dense(train_y[0].shape[0]))\n",
    "\n",
    "# last_timestep = Lambda(lambda x: x[:, -1, :])(lstm_layer)\n",
    "\n",
    "# inputs = Input(shape=train_X[0].shape)\n",
    "# x = LSTM(128, return_sequences = True, stateful=True, batch_input_shape=(2048, 250, train_X[0].shape))(inputs) # batch_input_shape=(batch_size, timesteps, data_dim)\n",
    "# # x = Lambda(lambda x : x[:,::5,:])(x) # Last 200 return_sequences of lstm layer\n",
    "# x = LSTM(64, return_sequences = True, stateful=True)(x)\n",
    "# x = LSTM(64, stateful=True)(x)\n",
    "# # x = Flatten()(x)\n",
    "# x = Dense(256, activation='relu')(x)\n",
    "# x = Dense(128, activation='relu')(x)\n",
    "# x = Dense(train_y[0].shape[0])(x)\n",
    "\n",
    "# model = Model(inputs=inputs, outputs=x)\n",
    "    \n",
    "\n",
    "model.compile(loss='mean_squared_error',\n",
    "              optimizer= Adam())\n",
    "\n",
    "model.save('model.h5') # Saving model for prediction\n"
   ]
  },
  {
   "cell_type": "code",
   "execution_count": 131,
   "metadata": {},
   "outputs": [
    {
     "name": "stdout",
     "output_type": "stream",
     "text": [
      "_________________________________________________________________\n",
      "Layer (type)                 Output Shape              Param #   \n",
      "=================================================================\n",
      "lstm_9 (LSTM)                (None, 128)               68608     \n",
      "_________________________________________________________________\n",
      "dense_26 (Dense)             (None, 256)               33024     \n",
      "_________________________________________________________________\n",
      "dense_27 (Dense)             (None, 256)               65792     \n",
      "_________________________________________________________________\n",
      "dense_28 (Dense)             (None, 256)               65792     \n",
      "_________________________________________________________________\n",
      "dense_29 (Dense)             (None, 256)               65792     \n",
      "_________________________________________________________________\n",
      "dense_30 (Dense)             (None, 5)                 1285      \n",
      "=================================================================\n",
      "Total params: 300,293\n",
      "Trainable params: 300,293\n",
      "Non-trainable params: 0\n",
      "_________________________________________________________________\n"
     ]
    }
   ],
   "source": [
    "model.summary()"
   ]
  },
  {
   "cell_type": "code",
   "execution_count": 132,
   "metadata": {},
   "outputs": [],
   "source": [
    "def get_model_memory_usage(batch_size, model):\n",
    "    import numpy as np\n",
    "    from keras import backend as K\n",
    "\n",
    "    shapes_mem_count = 0\n",
    "    for l in model.layers:\n",
    "        single_layer_mem = 1\n",
    "        for s in l.output_shape:\n",
    "            if s is None:\n",
    "                continue\n",
    "            single_layer_mem *= s\n",
    "        shapes_mem_count += single_layer_mem\n",
    "\n",
    "    trainable_count = np.sum([K.count_params(p) for p in set(model.trainable_weights)])\n",
    "    non_trainable_count = np.sum([K.count_params(p) for p in set(model.non_trainable_weights)])\n",
    "\n",
    "    total_memory = 4.0*batch_size*(shapes_mem_count + trainable_count + non_trainable_count)\n",
    "    gbytes = np.round(total_memory / (1024.0 ** 3), 3)\n",
    "    return gbytes"
   ]
  },
  {
   "cell_type": "code",
   "execution_count": 133,
   "metadata": {},
   "outputs": [
    {
     "name": "stdout",
     "output_type": "stream",
     "text": [
      "1.15\n"
     ]
    }
   ],
   "source": [
    "print(get_model_memory_usage(1024, model))"
   ]
  },
  {
   "cell_type": "code",
   "execution_count": 134,
   "metadata": {},
   "outputs": [],
   "source": [
    "# Setting up early stopping and weight saving on actually best solutions\n",
    "\n",
    "from keras.callbacks import EarlyStopping\n",
    "patience=10\n",
    "early_stopping=EarlyStopping(patience=patience, verbose=1)\n",
    "\n",
    "from keras.callbacks import ModelCheckpoint\n",
    "checkpointer=ModelCheckpoint(filepath='weights.hdf5', save_best_only=True, verbose=1)"
   ]
  },
  {
   "cell_type": "code",
   "execution_count": 135,
   "metadata": {
    "scrolled": true
   },
   "outputs": [
    {
     "name": "stdout",
     "output_type": "stream",
     "text": [
      "Train on 168614 samples, validate on 9129 samples\n",
      "Epoch 1/100\n",
      "168614/168614 [==============================] - 97s 575us/step - loss: 0.0170 - val_loss: 0.0094\n",
      "\n",
      "Epoch 00001: val_loss improved from inf to 0.00940, saving model to weights.hdf5\n",
      "Epoch 2/100\n",
      "168614/168614 [==============================] - 96s 571us/step - loss: 0.0063 - val_loss: 0.0083\n",
      "\n",
      "Epoch 00002: val_loss improved from 0.00940 to 0.00827, saving model to weights.hdf5\n",
      "Epoch 3/100\n",
      "168614/168614 [==============================] - 96s 567us/step - loss: 0.0059 - val_loss: 0.0081\n",
      "\n",
      "Epoch 00003: val_loss improved from 0.00827 to 0.00812, saving model to weights.hdf5\n",
      "Epoch 4/100\n",
      "168614/168614 [==============================] - 95s 565us/step - loss: 0.0059 - val_loss: 0.0080\n",
      "\n",
      "Epoch 00004: val_loss improved from 0.00812 to 0.00802, saving model to weights.hdf5\n",
      "Epoch 5/100\n",
      "168614/168614 [==============================] - 95s 561us/step - loss: 0.0058 - val_loss: 0.0079\n",
      "\n",
      "Epoch 00005: val_loss improved from 0.00802 to 0.00793, saving model to weights.hdf5\n",
      "Epoch 6/100\n",
      "168614/168614 [==============================] - 99s 589us/step - loss: 0.0058 - val_loss: 0.0078\n",
      "\n",
      "Epoch 00006: val_loss improved from 0.00793 to 0.00777, saving model to weights.hdf5\n",
      "Epoch 7/100\n",
      "168614/168614 [==============================] - 100s 591us/step - loss: 0.0058 - val_loss: 0.0077\n",
      "\n",
      "Epoch 00007: val_loss improved from 0.00777 to 0.00774, saving model to weights.hdf5\n",
      "Epoch 8/100\n",
      "168614/168614 [==============================] - 100s 592us/step - loss: 0.0057 - val_loss: 0.0077\n",
      "\n",
      "Epoch 00008: val_loss improved from 0.00774 to 0.00772, saving model to weights.hdf5\n",
      "Epoch 9/100\n",
      "168614/168614 [==============================] - 100s 590us/step - loss: 0.0057 - val_loss: 0.0077\n",
      "\n",
      "Epoch 00009: val_loss did not improve from 0.00772\n",
      "Epoch 10/100\n",
      "168614/168614 [==============================] - 100s 593us/step - loss: 0.0057 - val_loss: 0.0077\n",
      "\n",
      "Epoch 00010: val_loss improved from 0.00772 to 0.00767, saving model to weights.hdf5\n",
      "Epoch 11/100\n",
      "168614/168614 [==============================] - 100s 592us/step - loss: 0.0057 - val_loss: 0.0078\n",
      "\n",
      "Epoch 00011: val_loss did not improve from 0.00767\n",
      "Epoch 12/100\n",
      "168614/168614 [==============================] - 100s 591us/step - loss: 0.0056 - val_loss: 0.0080\n",
      "\n",
      "Epoch 00012: val_loss did not improve from 0.00767\n",
      "Epoch 13/100\n",
      "168614/168614 [==============================] - 100s 591us/step - loss: 0.0057 - val_loss: 0.0078\n",
      "\n",
      "Epoch 00013: val_loss did not improve from 0.00767\n",
      "Epoch 14/100\n",
      "168614/168614 [==============================] - 101s 599us/step - loss: 0.0056 - val_loss: 0.0077\n",
      "\n",
      "Epoch 00014: val_loss did not improve from 0.00767\n",
      "Epoch 15/100\n",
      "168614/168614 [==============================] - 99s 589us/step - loss: 0.0056 - val_loss: 0.0077\n",
      "\n",
      "Epoch 00015: val_loss improved from 0.00767 to 0.00766, saving model to weights.hdf5\n",
      "Epoch 16/100\n",
      "168614/168614 [==============================] - 96s 568us/step - loss: 0.0056 - val_loss: 0.0076\n",
      "\n",
      "Epoch 00016: val_loss improved from 0.00766 to 0.00762, saving model to weights.hdf5\n",
      "Epoch 17/100\n",
      "168614/168614 [==============================] - 97s 574us/step - loss: 0.0056 - val_loss: 0.0077\n",
      "\n",
      "Epoch 00017: val_loss did not improve from 0.00762\n",
      "Epoch 18/100\n",
      "168614/168614 [==============================] - 100s 592us/step - loss: 0.0056 - val_loss: 0.0077\n",
      "\n",
      "Epoch 00018: val_loss did not improve from 0.00762\n",
      "Epoch 19/100\n",
      "168614/168614 [==============================] - 103s 612us/step - loss: 0.0056 - val_loss: 0.0079\n",
      "\n",
      "Epoch 00019: val_loss did not improve from 0.00762\n",
      "Epoch 20/100\n",
      "168614/168614 [==============================] - 100s 593us/step - loss: 0.0056 - val_loss: 0.0076\n",
      "\n",
      "Epoch 00020: val_loss improved from 0.00762 to 0.00759, saving model to weights.hdf5\n",
      "Epoch 21/100\n",
      "168614/168614 [==============================] - 97s 575us/step - loss: 0.0056 - val_loss: 0.0076\n",
      "\n",
      "Epoch 00021: val_loss did not improve from 0.00759\n",
      "Epoch 22/100\n",
      "168614/168614 [==============================] - 101s 599us/step - loss: 0.0056 - val_loss: 0.0078\n",
      "\n",
      "Epoch 00022: val_loss did not improve from 0.00759\n",
      "Epoch 23/100\n",
      "168614/168614 [==============================] - 102s 604us/step - loss: 0.0056 - val_loss: 0.0077\n",
      "\n",
      "Epoch 00023: val_loss did not improve from 0.00759\n",
      "Epoch 24/100\n",
      "168614/168614 [==============================] - 100s 593us/step - loss: 0.0056 - val_loss: 0.0076\n",
      "\n",
      "Epoch 00024: val_loss did not improve from 0.00759\n",
      "Epoch 25/100\n",
      "168614/168614 [==============================] - 100s 592us/step - loss: 0.0056 - val_loss: 0.0077\n",
      "\n",
      "Epoch 00025: val_loss did not improve from 0.00759\n",
      "Epoch 26/100\n",
      "168614/168614 [==============================] - 100s 591us/step - loss: 0.0056 - val_loss: 0.0077\n",
      "\n",
      "Epoch 00026: val_loss did not improve from 0.00759\n",
      "Epoch 27/100\n",
      "168614/168614 [==============================] - 100s 592us/step - loss: 0.0056 - val_loss: 0.0077\n",
      "\n",
      "Epoch 00027: val_loss did not improve from 0.00759\n",
      "Epoch 28/100\n",
      "168614/168614 [==============================] - 100s 593us/step - loss: 0.0056 - val_loss: 0.0077\n",
      "\n",
      "Epoch 00028: val_loss did not improve from 0.00759\n",
      "Epoch 29/100\n",
      "168614/168614 [==============================] - 100s 594us/step - loss: 0.0056 - val_loss: 0.0076\n",
      "\n",
      "Epoch 00029: val_loss improved from 0.00759 to 0.00757, saving model to weights.hdf5\n",
      "Epoch 30/100\n",
      "168614/168614 [==============================] - 100s 593us/step - loss: 0.0056 - val_loss: 0.0077\n",
      "\n",
      "Epoch 00030: val_loss did not improve from 0.00757\n",
      "Epoch 31/100\n",
      "168614/168614 [==============================] - 100s 594us/step - loss: 0.0056 - val_loss: 0.0078\n",
      "\n",
      "Epoch 00031: val_loss did not improve from 0.00757\n",
      "Epoch 32/100\n",
      "168614/168614 [==============================] - 100s 592us/step - loss: 0.0056 - val_loss: 0.0077\n",
      "\n",
      "Epoch 00032: val_loss did not improve from 0.00757\n",
      "Epoch 33/100\n",
      "168614/168614 [==============================] - 100s 594us/step - loss: 0.0055 - val_loss: 0.0077\n",
      "\n",
      "Epoch 00033: val_loss did not improve from 0.00757\n",
      "Epoch 34/100\n",
      "168614/168614 [==============================] - 100s 594us/step - loss: 0.0056 - val_loss: 0.0077\n",
      "\n",
      "Epoch 00034: val_loss did not improve from 0.00757\n",
      "Epoch 35/100\n",
      "168614/168614 [==============================] - 100s 592us/step - loss: 0.0055 - val_loss: 0.0077\n",
      "\n",
      "Epoch 00035: val_loss did not improve from 0.00757\n",
      "Epoch 36/100\n",
      "168614/168614 [==============================] - 100s 593us/step - loss: 0.0056 - val_loss: 0.0079\n",
      "\n",
      "Epoch 00036: val_loss did not improve from 0.00757\n",
      "Epoch 37/100\n",
      "168614/168614 [==============================] - 100s 591us/step - loss: 0.0055 - val_loss: 0.0077\n",
      "\n",
      "Epoch 00037: val_loss did not improve from 0.00757\n",
      "Epoch 38/100\n",
      "168614/168614 [==============================] - 100s 591us/step - loss: 0.0055 - val_loss: 0.0078\n",
      "\n",
      "Epoch 00038: val_loss did not improve from 0.00757\n",
      "Epoch 39/100\n",
      "168614/168614 [==============================] - 100s 592us/step - loss: 0.0055 - val_loss: 0.0078\n",
      "\n",
      "Epoch 00039: val_loss did not improve from 0.00757\n",
      "Epoch 00039: early stopping\n"
     ]
    },
    {
     "data": {
      "text/plain": [
       "<keras.callbacks.History at 0x2a78d1273c8>"
      ]
     },
     "execution_count": 135,
     "metadata": {},
     "output_type": "execute_result"
    }
   ],
   "source": [
    "# Training model\n",
    "model.fit(train_X, train_y,\n",
    "          batch_size=1024,\n",
    "          epochs=100,\n",
    "          validation_data=(valid_X,valid_y), \n",
    "          callbacks=[checkpointer, early_stopping, history],\n",
    "          shuffle= True)"
   ]
  },
  {
   "cell_type": "code",
   "execution_count": 24,
   "metadata": {},
   "outputs": [],
   "source": [
    "# Clear GPU memory\n",
    "\n",
    "# K.clear_session() # Not working here\n",
    "\n",
    "# from numba import cuda\n",
    "# cuda.select_device(0)\n",
    "# cuda.close()"
   ]
  },
  {
   "cell_type": "code",
   "execution_count": 136,
   "metadata": {},
   "outputs": [
    {
     "data": {
      "image/png": "[encoded data removed]",
      "text/plain": [
       "<Figure size 720x360 with 1 Axes>"
      ]
     },
     "metadata": {
      "needs_background": "light"
     },
     "output_type": "display_data"
    }
   ],
   "source": [
    "from matplotlib import pyplot as plt\n",
    "%matplotlib inline\n",
    "\n",
    "plt.figure(figsize=(10, 5))\n",
    "plt.title('Error')\n",
    "plt.plot(np.arange(history.epoch)[1:], history.losses[1:], color ='g', label='Error on training set') \n",
    "plt.plot(np.arange(history.epoch)[1:], history.valid_losses[1:], color ='b', label='Error on validation set')\n",
    "plt.legend(loc='upper right')\n",
    "plt.xlabel('Iterations')\n",
    "plt.ylabel('Error')\n",
    "plt.grid(True)\n",
    "plt.show()"
   ]
  },
  {
   "cell_type": "code",
   "execution_count": null,
   "metadata": {},
   "outputs": [],
   "source": []
  }
 ],
 "metadata": {
  "kernelspec": {
   "display_name": "Python 3",
   "language": "python",
   "name": "python3"
  },
  "language_info": {
   "codemirror_mode": {
    "name": "ipython",
    "version": 3
   },
   "file_extension": ".py",
   "mimetype": "text/x-python",
   "name": "python",
   "nbconvert_exporter": "python",
   "pygments_lexer": "ipython3",
   "version": "3.6.7"
  }
 },
 "nbformat": 4,
 "nbformat_minor": 2
}
