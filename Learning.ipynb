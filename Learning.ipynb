{
 "cells": [
  {
   "cell_type": "code",
   "execution_count": 1,
   "metadata": {},
   "outputs": [],
   "source": [
    "import urllib.request, json \n",
    "\n",
    "# 5min BTC/USDT chart form Poloniex since 2017-01-01T00:00:00+00:00 till 2018-10-14T20:00:00+00:00\n",
    "with urllib.request.urlopen(\"https://poloniex.com/public?command=returnChartData&currencyPair=USDT_BTC&start=1483228800&end=1539547200&period=300\") as url:\n",
    "    data = json.loads(url.read().decode())"
   ]
  },
  {
   "cell_type": "code",
   "execution_count": 2,
   "metadata": {},
   "outputs": [
    {
     "name": "stdout",
     "output_type": "stream",
     "text": [
      "{'date': 1483228800, 'high': 965.00000066, 'low': 964.00000002, 'open': 965.00000055, 'close': 964.00000127, 'volume': 5398.83711674, 'quoteVolume': 5.59672254, 'weightedAverage': 964.64262399}\n"
     ]
    }
   ],
   "source": [
    "print(data[0])"
   ]
  },
  {
   "cell_type": "code",
   "execution_count": 3,
   "metadata": {},
   "outputs": [
    {
     "data": {
      "text/html": [
       "<div>\n",
       "<style scoped>\n",
       "    .dataframe tbody tr th:only-of-type {\n",
       "        vertical-align: middle;\n",
       "    }\n",
       "\n",
       "    .dataframe tbody tr th {\n",
       "        vertical-align: top;\n",
       "    }\n",
       "\n",
       "    .dataframe thead th {\n",
       "        text-align: right;\n",
       "    }\n",
       "</style>\n",
       "<table border=\"1\" class=\"dataframe\">\n",
       "  <thead>\n",
       "    <tr style=\"text-align: right;\">\n",
       "      <th></th>\n",
       "      <th>date</th>\n",
       "      <th>weightedAverage</th>\n",
       "    </tr>\n",
       "  </thead>\n",
       "  <tbody>\n",
       "    <tr>\n",
       "      <th>0</th>\n",
       "      <td>1483228800</td>\n",
       "      <td>964.642624</td>\n",
       "    </tr>\n",
       "    <tr>\n",
       "      <th>1</th>\n",
       "      <td>1483229100</td>\n",
       "      <td>965.858035</td>\n",
       "    </tr>\n",
       "    <tr>\n",
       "      <th>2</th>\n",
       "      <td>1483229400</td>\n",
       "      <td>963.946565</td>\n",
       "    </tr>\n",
       "    <tr>\n",
       "      <th>3</th>\n",
       "      <td>1483229700</td>\n",
       "      <td>962.024978</td>\n",
       "    </tr>\n",
       "    <tr>\n",
       "      <th>4</th>\n",
       "      <td>1483230000</td>\n",
       "      <td>963.568648</td>\n",
       "    </tr>\n",
       "  </tbody>\n",
       "</table>\n",
       "</div>"
      ],
      "text/plain": [
       "         date  weightedAverage\n",
       "0  1483228800       964.642624\n",
       "1  1483229100       965.858035\n",
       "2  1483229400       963.946565\n",
       "3  1483229700       962.024978\n",
       "4  1483230000       963.568648"
      ]
     },
     "execution_count": 3,
     "metadata": {},
     "output_type": "execute_result"
    }
   ],
   "source": [
    "import csv\n",
    "import numpy as np\n",
    "import pandas as pd\n",
    " \n",
    "df = pd.DataFrame(data=data, columns=['date', 'weightedAverage'])\n",
    "        \n",
    "df = df.fillna(method='ffill')\n",
    "df.to_csv(\"poloniex_usdt_btc_20170101_weightedAverage_300.csv\", sep=\";\", index=False)\n",
    "\n",
    "df.head()"
   ]
  },
  {
   "cell_type": "code",
   "execution_count": 4,
   "metadata": {},
   "outputs": [
    {
     "name": "stdout",
     "output_type": "stream",
     "text": [
      "375458\n"
     ]
    }
   ],
   "source": [
    "print(df.size)"
   ]
  },
  {
   "cell_type": "code",
   "execution_count": 5,
   "metadata": {},
   "outputs": [],
   "source": [
    "# Turn dataframe into a numpy floating point array\n",
    "df_values = df.values\n",
    "timestamps = df_values[:, 0]\n",
    "dataset = df_values[:, 1].astype(\"float\")"
   ]
  },
  {
   "cell_type": "code",
   "execution_count": 6,
   "metadata": {},
   "outputs": [],
   "source": [
    "# Split the dataset into training (70%), cross validation (20%) and test (10%) set\n",
    "samples_num = dataset.shape[0]\n",
    "\n",
    "valid_split = 0.2\n",
    "test_split = 0.1\n",
    "\n",
    "dataset_train = dataset[0:int(samples_num * (1 - valid_split - test_split))]\n",
    "dataset_valid = dataset[int(samples_num * (1 - valid_split - test_split)):int(samples_num * (1 - test_split))]\n",
    "dataset_test = dataset[int(samples_num * (1 - test_split)):]"
   ]
  },
  {
   "cell_type": "code",
   "execution_count": 7,
   "metadata": {},
   "outputs": [
    {
     "name": "stdout",
     "output_type": "stream",
     "text": [
      "(131410,)\n",
      "(37546,)\n",
      "(18773,)\n"
     ]
    }
   ],
   "source": [
    "print(dataset_train.shape)\n",
    "print(dataset_valid.shape)\n",
    "print(dataset_test.shape)"
   ]
  },
  {
   "cell_type": "code",
   "execution_count": 8,
   "metadata": {},
   "outputs": [
    {
     "name": "stdout",
     "output_type": "stream",
     "text": [
      "[964.64262399 965.85803538 963.94656468 962.02497756 963.56864844]\n"
     ]
    }
   ],
   "source": [
    "print(dataset_train[:5])"
   ]
  },
  {
   "cell_type": "code",
   "execution_count": 9,
   "metadata": {},
   "outputs": [],
   "source": [
    "# Makes a training examples from year data with a timesteps window size\n",
    "\n",
    "def makeXy(data, timesteps):\n",
    "    X = []\n",
    "    y = []\n",
    "    \n",
    "    for i in range(timesteps, data.shape[0]):\n",
    "        X.append(list(data[i-timesteps:i]))\n",
    "        y.append(data[i])\n",
    "        \n",
    "    X, y = np.array(X), np.array(y)\n",
    "    return X, y"
   ]
  },
  {
   "cell_type": "code",
   "execution_count": 10,
   "metadata": {},
   "outputs": [
    {
     "name": "stdout",
     "output_type": "stream",
     "text": [
      "(131410,)\n"
     ]
    }
   ],
   "source": [
    "print(np.array(dataset_train).shape)"
   ]
  },
  {
   "cell_type": "code",
   "execution_count": 11,
   "metadata": {},
   "outputs": [
    {
     "name": "stdout",
     "output_type": "stream",
     "text": [
      "[[131410]]\n"
     ]
    }
   ],
   "source": [
    "print(np.array(dataset_train.shape).reshape(-1, 1))"
   ]
  },
  {
   "cell_type": "code",
   "execution_count": 12,
   "metadata": {},
   "outputs": [
    {
     "name": "stdout",
     "output_type": "stream",
     "text": [
      "X_train:\n",
      "[[-0.95438328]\n",
      " [-0.9541113 ]\n",
      " [-0.95453904]\n",
      " ...\n",
      " [ 0.3791661 ]\n",
      " [ 0.37897781]\n",
      " [ 0.37332536]]\n",
      "\n",
      "X_valid:\n",
      "[[0.37374208]\n",
      " [0.37158819]\n",
      " [0.36742356]\n",
      " ...\n",
      " [0.2704622 ]\n",
      " [0.27149772]\n",
      " [0.27376986]]\n",
      "\n",
      "X_test:\n",
      "[[0.27597285]\n",
      " [0.27707803]\n",
      " [0.27824451]\n",
      " ...\n",
      " [0.26215537]\n",
      " [0.2623948 ]\n",
      " [0.26275016]]\n"
     ]
    }
   ],
   "source": [
    "from sklearn.preprocessing import StandardScaler\n",
    "from sklearn.externals import joblib\n",
    "\n",
    "# Normalize data\n",
    "scaler = StandardScaler().fit(np.array(dataset_train).reshape(-1, 1))\n",
    "X_train = scaler.transform(np.array(dataset_train).reshape(-1, 1))\n",
    "X_valid = scaler.transform(np.array(dataset_valid).reshape(-1, 1))\n",
    "X_test = scaler.transform(np.array(dataset_test).reshape(-1, 1))\n",
    "\n",
    "# Saving scaler for prediction\n",
    "scaler_filename = \"scaler.save\"\n",
    "joblib.dump(scaler, scaler_filename) \n",
    "\n",
    "print (\"X_train:\\n\" + str(X_train))\n",
    "print (\"\\nX_valid:\\n\" + str(X_valid))\n",
    "print (\"\\nX_test:\\n\" + str(X_test))"
   ]
  },
  {
   "cell_type": "code",
   "execution_count": 23,
   "metadata": {},
   "outputs": [
    {
     "name": "stdout",
     "output_type": "stream",
     "text": [
      "(131370, 40, 1)\n",
      "(131370, 1)\n"
     ]
    }
   ],
   "source": [
    "import numpy as np\n",
    "\n",
    "timestep = 40 # Make decision from last 20 days\n",
    "\n",
    "# Create training examples\n",
    "\n",
    "train_X, train_y = makeXy(X_train, timestep)\n",
    "valid_X, valid_y = makeXy(X_valid, timestep)\n",
    "test_X, test_y = makeXy(X_test, timestep)\n",
    "    \n",
    "print(train_X.shape)\n",
    "print(train_y.shape)\n",
    "\n",
    "# train_X = train_X.reshape(train_X.shape[0],-1)\n",
    "# valid_X = valid_X.reshape(valid_X.shape[0],-1)\n",
    "# test_X = test_X.reshape(test_X.shape[0],-1)\n",
    "\n",
    "# print(train_X.shape)\n",
    "# print(train_y.shape)"
   ]
  },
  {
   "cell_type": "code",
   "execution_count": 24,
   "metadata": {},
   "outputs": [
    {
     "name": "stdout",
     "output_type": "stream",
     "text": [
      "[[-0.95438328]\n",
      " [-0.9541113 ]\n",
      " [-0.95453904]\n",
      " [-0.95496905]\n",
      " [-0.95462361]\n",
      " [-0.95422342]\n",
      " [-0.95477771]\n",
      " [-0.9545387 ]\n",
      " [-0.9546288 ]\n",
      " [-0.95445073]\n",
      " [-0.95421625]\n",
      " [-0.95449726]\n",
      " [-0.95449726]\n",
      " [-0.95411198]\n",
      " [-0.95449726]\n",
      " [-0.95449726]\n",
      " [-0.95411418]\n",
      " [-0.95411198]\n",
      " [-0.95411198]\n",
      " [-0.95410895]\n",
      " [-0.95400951]\n",
      " [-0.95403426]\n",
      " [-0.95398963]\n",
      " [-0.95385606]\n",
      " [-0.95366915]\n",
      " [-0.95364846]\n",
      " [-0.95366168]\n",
      " [-0.9539117 ]\n",
      " [-0.95420145]\n",
      " [-0.95434963]\n",
      " [-0.95491691]\n",
      " [-0.95485802]\n",
      " [-0.95449233]\n",
      " [-0.95481109]\n",
      " [-0.95492997]\n",
      " [-0.95469605]\n",
      " [-0.95497464]\n",
      " [-0.9548161 ]\n",
      " [-0.9546958 ]\n",
      " [-0.95452765]]\n",
      "[-0.95506427]\n"
     ]
    }
   ],
   "source": [
    "print(train_X[0])\n",
    "print(train_y[0])"
   ]
  },
  {
   "cell_type": "code",
   "execution_count": 25,
   "metadata": {},
   "outputs": [],
   "source": [
    "from keras.models import Sequential\n",
    "from keras.layers.core import Dense, Activation\n",
    "from keras.callbacks import Callback\n",
    "from keras.optimizers import Adam\n",
    "from keras.layers import Dropout, Conv1D, Flatten, MaxPooling1D, LSTM\n",
    "from keras import regularizers\n",
    "from tensorflow import set_random_seed\n",
    "\n",
    "# Set random seed to always predict the same values\n",
    "np.random.seed(1)\n",
    "set_random_seed(2) # Tensoflow"
   ]
  },
  {
   "cell_type": "code",
   "execution_count": 26,
   "metadata": {},
   "outputs": [],
   "source": [
    "# Saving loss and acc values\n",
    "\n",
    "class TrainingHistory(Callback):\n",
    "\n",
    "    def on_train_begin(self, logs={}):\n",
    "        self.losses = []\n",
    "        self.valid_losses = []\n",
    "        self.accs = []\n",
    "        self.valid_accs = []\n",
    "        self.epoch = 0\n",
    "    \n",
    "    def on_epoch_end(self, epoch, logs={}):\n",
    "        self.losses.append(logs.get('loss'))\n",
    "        self.valid_losses.append(logs.get('val_loss'))\n",
    "        self.accs.append(logs.get('acc'))\n",
    "        self.valid_accs.append(logs.get('val_acc'))\n",
    "        self.epoch += 1\n",
    "            \n",
    "history = TrainingHistory()"
   ]
  },
  {
   "cell_type": "code",
   "execution_count": 27,
   "metadata": {},
   "outputs": [],
   "source": [
    "# train_X = np.expand_dims(train_X, axis=2)\n",
    "# print(train_X.shape)"
   ]
  },
  {
   "cell_type": "code",
   "execution_count": 48,
   "metadata": {},
   "outputs": [],
   "source": [
    "# Create model\n",
    "model = Sequential()\n",
    "\n",
    "model.add(Conv1D(kernel_size = (5), filters = 64, input_shape=train_X[0].shape, activation='relu'))\n",
    "model.add(MaxPooling1D(pool_size = (2), strides=(2)))\n",
    "model.add(Conv1D(kernel_size = (3), filters = 32, activation='relu'))\n",
    "model.add(MaxPooling1D(pool_size = (2), strides=(2)))\n",
    "model.add(LSTM(64))\n",
    "model.add(Dense(1))\n",
    "model.add(Activation('sigmoid'))\n",
    "\n",
    "\n",
    "# model.add(Conv1D(kernel_size = (5), filters = 64, activation='relu'))\n",
    "# model.add(MaxPooling1D(pool_size = (2), strides=(2)))\n",
    "# model.add(Conv1D(kernel_size = (3), filters = 64, activation='relu'))\n",
    "# model.add(MaxPooling1D(pool_size = (2), strides=(2)))\n",
    "# model.add(Flatten())\n",
    "# model.add(Dense(100, activation='relu'))\n",
    "# model.add(Dropout(0.5))\n",
    "# model.add(Dense(100, activation='relu'))\n",
    "# model.add(Dropout(0.5))\n",
    "# model.add(Dense(80, activation='sigmoid'))\n",
    "# model.add(Dropout(0.5))\n",
    "# model.add(Dense(60, activation='sigmoid'))\n",
    "# model.add(Dropout(0.5))\n",
    "# model.add(Dense(1, activation='sigmoid'))\n",
    "\n",
    "model.compile(loss='mean_squared_error',\n",
    "              optimizer= Adam())\n",
    "\n",
    "model.save('model.h5') # Saving model for prediction"
   ]
  },
  {
   "cell_type": "code",
   "execution_count": 49,
   "metadata": {},
   "outputs": [
    {
     "name": "stdout",
     "output_type": "stream",
     "text": [
      "_________________________________________________________________\n",
      "Layer (type)                 Output Shape              Param #   \n",
      "=================================================================\n",
      "conv1d_6 (Conv1D)            (None, 36, 64)            384       \n",
      "_________________________________________________________________\n",
      "max_pooling1d_6 (MaxPooling1 (None, 18, 64)            0         \n",
      "_________________________________________________________________\n",
      "conv1d_7 (Conv1D)            (None, 16, 32)            6176      \n",
      "_________________________________________________________________\n",
      "max_pooling1d_7 (MaxPooling1 (None, 8, 32)             0         \n",
      "_________________________________________________________________\n",
      "lstm_9 (LSTM)                (None, 64)                24832     \n",
      "_________________________________________________________________\n",
      "dense_9 (Dense)              (None, 1)                 65        \n",
      "_________________________________________________________________\n",
      "activation_9 (Activation)    (None, 1)                 0         \n",
      "=================================================================\n",
      "Total params: 31,457\n",
      "Trainable params: 31,457\n",
      "Non-trainable params: 0\n",
      "_________________________________________________________________\n"
     ]
    }
   ],
   "source": [
    "model.summary()"
   ]
  },
  {
   "cell_type": "code",
   "execution_count": 50,
   "metadata": {},
   "outputs": [],
   "source": [
    "# Setting up early stopping and weight saving on actually best solutions\n",
    "\n",
    "from keras.callbacks import EarlyStopping\n",
    "patience=20\n",
    "early_stopping=EarlyStopping(patience=patience, verbose=1)\n",
    "\n",
    "from keras.callbacks import ModelCheckpoint\n",
    "checkpointer=ModelCheckpoint(filepath='weights.hdf5', save_best_only=True, verbose=1)"
   ]
  },
  {
   "cell_type": "code",
   "execution_count": 53,
   "metadata": {},
   "outputs": [
    {
     "name": "stdout",
     "output_type": "stream",
     "text": [
      "Train on 131370 samples, validate on 37506 samples\n",
      "Epoch 1/2500\n",
      "131370/131370 [==============================] - 21s 160us/step - loss: 0.4808 - val_loss: 5.7447e-05\n",
      "\n",
      "Epoch 00001: val_loss improved from 0.00006 to 0.00006, saving model to weights.hdf5\n",
      "Epoch 2/2500\n",
      "131370/131370 [==============================] - 21s 159us/step - loss: 0.4808 - val_loss: 5.3136e-05\n",
      "\n",
      "Epoch 00002: val_loss improved from 0.00006 to 0.00005, saving model to weights.hdf5\n",
      "Epoch 3/2500\n",
      "131370/131370 [==============================] - 21s 163us/step - loss: 0.4808 - val_loss: 7.8888e-05\n",
      "\n",
      "Epoch 00003: val_loss did not improve from 0.00005\n",
      "Epoch 4/2500\n",
      "131370/131370 [==============================] - 22s 166us/step - loss: 0.4808 - val_loss: 6.1806e-05\n",
      "\n",
      "Epoch 00004: val_loss did not improve from 0.00005\n",
      "Epoch 5/2500\n",
      "131370/131370 [==============================] - 22s 167us/step - loss: 0.4808 - val_loss: 5.5842e-05\n",
      "\n",
      "Epoch 00005: val_loss did not improve from 0.00005\n",
      "Epoch 6/2500\n",
      "131370/131370 [==============================] - 22s 171us/step - loss: 0.4808 - val_loss: 4.6613e-05\n",
      "\n",
      "Epoch 00006: val_loss improved from 0.00005 to 0.00005, saving model to weights.hdf5\n",
      "Epoch 7/2500\n",
      "131370/131370 [==============================] - 25s 190us/step - loss: 0.4808 - val_loss: 5.6790e-05\n",
      "\n",
      "Epoch 00007: val_loss did not improve from 0.00005\n",
      "Epoch 8/2500\n",
      "131370/131370 [==============================] - 22s 168us/step - loss: 0.4808 - val_loss: 4.6891e-05\n",
      "\n",
      "Epoch 00008: val_loss did not improve from 0.00005\n",
      "Epoch 9/2500\n",
      "131370/131370 [==============================] - 22s 165us/step - loss: 0.4808 - val_loss: 4.8082e-05\n",
      "\n",
      "Epoch 00009: val_loss did not improve from 0.00005\n",
      "Epoch 10/2500\n",
      "131370/131370 [==============================] - 22s 167us/step - loss: 0.4808 - val_loss: 1.0698e-04\n",
      "\n",
      "Epoch 00010: val_loss did not improve from 0.00005\n",
      "Epoch 11/2500\n",
      "131370/131370 [==============================] - 21s 159us/step - loss: 0.4808 - val_loss: 5.2820e-05\n",
      "\n",
      "Epoch 00011: val_loss did not improve from 0.00005\n",
      "Epoch 12/2500\n",
      "131370/131370 [==============================] - 23s 177us/step - loss: 0.4808 - val_loss: 4.4909e-05\n",
      "\n",
      "Epoch 00012: val_loss improved from 0.00005 to 0.00004, saving model to weights.hdf5\n",
      "Epoch 13/2500\n",
      "131370/131370 [==============================] - 24s 179us/step - loss: 0.4808 - val_loss: 5.8747e-05\n",
      "\n",
      "Epoch 00013: val_loss did not improve from 0.00004\n",
      "Epoch 14/2500\n",
      "131370/131370 [==============================] - 21s 163us/step - loss: 0.4808 - val_loss: 6.2764e-05\n",
      "\n",
      "Epoch 00014: val_loss did not improve from 0.00004\n",
      "Epoch 15/2500\n",
      "131370/131370 [==============================] - 22s 170us/step - loss: 0.4808 - val_loss: 4.3720e-05\n",
      "\n",
      "Epoch 00015: val_loss improved from 0.00004 to 0.00004, saving model to weights.hdf5\n",
      "Epoch 16/2500\n",
      "131370/131370 [==============================] - 25s 194us/step - loss: 0.4808 - val_loss: 4.0289e-05\n",
      "\n",
      "Epoch 00016: val_loss improved from 0.00004 to 0.00004, saving model to weights.hdf5\n",
      "Epoch 17/2500\n",
      "131370/131370 [==============================] - 26s 195us/step - loss: 0.4808 - val_loss: 9.1398e-05\n",
      "\n",
      "Epoch 00017: val_loss did not improve from 0.00004\n",
      "Epoch 18/2500\n",
      "131370/131370 [==============================] - 24s 184us/step - loss: 0.4808 - val_loss: 3.5166e-05\n",
      "\n",
      "Epoch 00018: val_loss improved from 0.00004 to 0.00004, saving model to weights.hdf5\n",
      "Epoch 19/2500\n",
      "131370/131370 [==============================] - 22s 170us/step - loss: 0.4808 - val_loss: 5.7182e-05\n",
      "\n",
      "Epoch 00019: val_loss did not improve from 0.00004\n",
      "Epoch 20/2500\n",
      "131370/131370 [==============================] - 22s 166us/step - loss: 0.4808 - val_loss: 3.7109e-05\n",
      "\n",
      "Epoch 00020: val_loss did not improve from 0.00004\n",
      "Epoch 21/2500\n",
      "131370/131370 [==============================] - 21s 161us/step - loss: 0.4808 - val_loss: 4.3113e-05\n",
      "\n",
      "Epoch 00021: val_loss did not improve from 0.00004\n",
      "Epoch 22/2500\n",
      "131370/131370 [==============================] - 23s 178us/step - loss: 0.4808 - val_loss: 4.0280e-05\n",
      "\n",
      "Epoch 00022: val_loss did not improve from 0.00004\n",
      "Epoch 23/2500\n",
      "131370/131370 [==============================] - 23s 178us/step - loss: 0.4808 - val_loss: 5.6077e-05\n",
      "\n",
      "Epoch 00023: val_loss did not improve from 0.00004\n",
      "Epoch 24/2500\n",
      "131370/131370 [==============================] - 21s 161us/step - loss: 0.4808 - val_loss: 6.0497e-05\n",
      "\n",
      "Epoch 00024: val_loss did not improve from 0.00004\n",
      "Epoch 25/2500\n",
      "131370/131370 [==============================] - 23s 177us/step - loss: 0.4808 - val_loss: 4.3309e-05\n",
      "\n",
      "Epoch 00025: val_loss did not improve from 0.00004\n",
      "Epoch 26/2500\n",
      "131370/131370 [==============================] - 22s 169us/step - loss: 0.4808 - val_loss: 3.9631e-05\n",
      "\n",
      "Epoch 00026: val_loss did not improve from 0.00004\n",
      "Epoch 27/2500\n",
      "131370/131370 [==============================] - 23s 172us/step - loss: 0.4808 - val_loss: 4.0205e-05\n",
      "\n",
      "Epoch 00027: val_loss did not improve from 0.00004\n",
      "Epoch 28/2500\n",
      "131370/131370 [==============================] - 24s 184us/step - loss: 0.4808 - val_loss: 3.9002e-05\n",
      "\n",
      "Epoch 00028: val_loss did not improve from 0.00004\n",
      "Epoch 29/2500\n",
      "128896/131370 [============================>.] - ETA: 0s - loss: 0.4810"
     ]
    },
    {
     "ename": "KeyboardInterrupt",
     "evalue": "",
     "output_type": "error",
     "traceback": [
      "\u001b[1;31m---------------------------------------------------------------------------\u001b[0m",
      "\u001b[1;31mKeyboardInterrupt\u001b[0m                         Traceback (most recent call last)",
      "\u001b[1;32m<ipython-input-53-4ee174cf380e>\u001b[0m in \u001b[0;36m<module>\u001b[1;34m()\u001b[0m\n\u001b[0;32m      5\u001b[0m           \u001b[0mvalidation_data\u001b[0m\u001b[1;33m=\u001b[0m\u001b[1;33m(\u001b[0m\u001b[0mvalid_X\u001b[0m\u001b[1;33m[\u001b[0m\u001b[1;33m:\u001b[0m\u001b[1;33m:\u001b[0m\u001b[1;36m1\u001b[0m\u001b[1;33m]\u001b[0m\u001b[1;33m,\u001b[0m\u001b[0mvalid_y\u001b[0m\u001b[1;33m[\u001b[0m\u001b[1;33m:\u001b[0m\u001b[1;33m:\u001b[0m\u001b[1;36m1\u001b[0m\u001b[1;33m]\u001b[0m\u001b[1;33m)\u001b[0m\u001b[1;33m,\u001b[0m\u001b[1;33m\u001b[0m\u001b[0m\n\u001b[0;32m      6\u001b[0m           \u001b[0mcallbacks\u001b[0m\u001b[1;33m=\u001b[0m\u001b[1;33m[\u001b[0m\u001b[0mcheckpointer\u001b[0m\u001b[1;33m,\u001b[0m \u001b[0mearly_stopping\u001b[0m\u001b[1;33m,\u001b[0m \u001b[0mhistory\u001b[0m\u001b[1;33m]\u001b[0m\u001b[1;33m,\u001b[0m\u001b[1;33m\u001b[0m\u001b[0m\n\u001b[1;32m----> 7\u001b[1;33m           shuffle= True)\n\u001b[0m",
      "\u001b[1;32mD:\\ProgramFiles\\Anaconda3\\lib\\site-packages\\keras\\engine\\training.py\u001b[0m in \u001b[0;36mfit\u001b[1;34m(self, x, y, batch_size, epochs, verbose, callbacks, validation_split, validation_data, shuffle, class_weight, sample_weight, initial_epoch, steps_per_epoch, validation_steps, **kwargs)\u001b[0m\n\u001b[0;32m   1035\u001b[0m                                         \u001b[0minitial_epoch\u001b[0m\u001b[1;33m=\u001b[0m\u001b[0minitial_epoch\u001b[0m\u001b[1;33m,\u001b[0m\u001b[1;33m\u001b[0m\u001b[0m\n\u001b[0;32m   1036\u001b[0m                                         \u001b[0msteps_per_epoch\u001b[0m\u001b[1;33m=\u001b[0m\u001b[0msteps_per_epoch\u001b[0m\u001b[1;33m,\u001b[0m\u001b[1;33m\u001b[0m\u001b[0m\n\u001b[1;32m-> 1037\u001b[1;33m                                         validation_steps=validation_steps)\n\u001b[0m\u001b[0;32m   1038\u001b[0m \u001b[1;33m\u001b[0m\u001b[0m\n\u001b[0;32m   1039\u001b[0m     def evaluate(self, x=None, y=None,\n",
      "\u001b[1;32mD:\\ProgramFiles\\Anaconda3\\lib\\site-packages\\keras\\engine\\training_arrays.py\u001b[0m in \u001b[0;36mfit_loop\u001b[1;34m(model, f, ins, out_labels, batch_size, epochs, verbose, callbacks, val_f, val_ins, shuffle, callback_metrics, initial_epoch, steps_per_epoch, validation_steps)\u001b[0m\n\u001b[0;32m    202\u001b[0m                     \u001b[0mbatch_logs\u001b[0m\u001b[1;33m[\u001b[0m\u001b[0ml\u001b[0m\u001b[1;33m]\u001b[0m \u001b[1;33m=\u001b[0m \u001b[0mo\u001b[0m\u001b[1;33m\u001b[0m\u001b[0m\n\u001b[0;32m    203\u001b[0m \u001b[1;33m\u001b[0m\u001b[0m\n\u001b[1;32m--> 204\u001b[1;33m                 \u001b[0mcallbacks\u001b[0m\u001b[1;33m.\u001b[0m\u001b[0mon_batch_end\u001b[0m\u001b[1;33m(\u001b[0m\u001b[0mbatch_index\u001b[0m\u001b[1;33m,\u001b[0m \u001b[0mbatch_logs\u001b[0m\u001b[1;33m)\u001b[0m\u001b[1;33m\u001b[0m\u001b[0m\n\u001b[0m\u001b[0;32m    205\u001b[0m                 \u001b[1;32mif\u001b[0m \u001b[0mcallback_model\u001b[0m\u001b[1;33m.\u001b[0m\u001b[0mstop_training\u001b[0m\u001b[1;33m:\u001b[0m\u001b[1;33m\u001b[0m\u001b[0m\n\u001b[0;32m    206\u001b[0m                     \u001b[1;32mbreak\u001b[0m\u001b[1;33m\u001b[0m\u001b[0m\n",
      "\u001b[1;32mD:\\ProgramFiles\\Anaconda3\\lib\\site-packages\\keras\\callbacks.py\u001b[0m in \u001b[0;36mon_batch_end\u001b[1;34m(self, batch, logs)\u001b[0m\n\u001b[0;32m    111\u001b[0m         \u001b[0mt_before_callbacks\u001b[0m \u001b[1;33m=\u001b[0m \u001b[0mtime\u001b[0m\u001b[1;33m.\u001b[0m\u001b[0mtime\u001b[0m\u001b[1;33m(\u001b[0m\u001b[1;33m)\u001b[0m\u001b[1;33m\u001b[0m\u001b[0m\n\u001b[0;32m    112\u001b[0m         \u001b[1;32mfor\u001b[0m \u001b[0mcallback\u001b[0m \u001b[1;32min\u001b[0m \u001b[0mself\u001b[0m\u001b[1;33m.\u001b[0m\u001b[0mcallbacks\u001b[0m\u001b[1;33m:\u001b[0m\u001b[1;33m\u001b[0m\u001b[0m\n\u001b[1;32m--> 113\u001b[1;33m             \u001b[0mcallback\u001b[0m\u001b[1;33m.\u001b[0m\u001b[0mon_batch_end\u001b[0m\u001b[1;33m(\u001b[0m\u001b[0mbatch\u001b[0m\u001b[1;33m,\u001b[0m \u001b[0mlogs\u001b[0m\u001b[1;33m)\u001b[0m\u001b[1;33m\u001b[0m\u001b[0m\n\u001b[0m\u001b[0;32m    114\u001b[0m         \u001b[0mself\u001b[0m\u001b[1;33m.\u001b[0m\u001b[0m_delta_ts_batch_end\u001b[0m\u001b[1;33m.\u001b[0m\u001b[0mappend\u001b[0m\u001b[1;33m(\u001b[0m\u001b[0mtime\u001b[0m\u001b[1;33m.\u001b[0m\u001b[0mtime\u001b[0m\u001b[1;33m(\u001b[0m\u001b[1;33m)\u001b[0m \u001b[1;33m-\u001b[0m \u001b[0mt_before_callbacks\u001b[0m\u001b[1;33m)\u001b[0m\u001b[1;33m\u001b[0m\u001b[0m\n\u001b[0;32m    115\u001b[0m         \u001b[0mdelta_t_median\u001b[0m \u001b[1;33m=\u001b[0m \u001b[0mnp\u001b[0m\u001b[1;33m.\u001b[0m\u001b[0mmedian\u001b[0m\u001b[1;33m(\u001b[0m\u001b[0mself\u001b[0m\u001b[1;33m.\u001b[0m\u001b[0m_delta_ts_batch_end\u001b[0m\u001b[1;33m)\u001b[0m\u001b[1;33m\u001b[0m\u001b[0m\n",
      "\u001b[1;32mD:\\ProgramFiles\\Anaconda3\\lib\\site-packages\\keras\\callbacks.py\u001b[0m in \u001b[0;36mon_batch_end\u001b[1;34m(self, batch, logs)\u001b[0m\n\u001b[0;32m    326\u001b[0m         \u001b[1;31m# will be handled by on_epoch_end.\u001b[0m\u001b[1;33m\u001b[0m\u001b[1;33m\u001b[0m\u001b[0m\n\u001b[0;32m    327\u001b[0m         \u001b[1;32mif\u001b[0m \u001b[0mself\u001b[0m\u001b[1;33m.\u001b[0m\u001b[0mverbose\u001b[0m \u001b[1;32mand\u001b[0m \u001b[0mself\u001b[0m\u001b[1;33m.\u001b[0m\u001b[0mseen\u001b[0m \u001b[1;33m<\u001b[0m \u001b[0mself\u001b[0m\u001b[1;33m.\u001b[0m\u001b[0mtarget\u001b[0m\u001b[1;33m:\u001b[0m\u001b[1;33m\u001b[0m\u001b[0m\n\u001b[1;32m--> 328\u001b[1;33m             \u001b[0mself\u001b[0m\u001b[1;33m.\u001b[0m\u001b[0mprogbar\u001b[0m\u001b[1;33m.\u001b[0m\u001b[0mupdate\u001b[0m\u001b[1;33m(\u001b[0m\u001b[0mself\u001b[0m\u001b[1;33m.\u001b[0m\u001b[0mseen\u001b[0m\u001b[1;33m,\u001b[0m \u001b[0mself\u001b[0m\u001b[1;33m.\u001b[0m\u001b[0mlog_values\u001b[0m\u001b[1;33m)\u001b[0m\u001b[1;33m\u001b[0m\u001b[0m\n\u001b[0m\u001b[0;32m    329\u001b[0m \u001b[1;33m\u001b[0m\u001b[0m\n\u001b[0;32m    330\u001b[0m     \u001b[1;32mdef\u001b[0m \u001b[0mon_epoch_end\u001b[0m\u001b[1;33m(\u001b[0m\u001b[0mself\u001b[0m\u001b[1;33m,\u001b[0m \u001b[0mepoch\u001b[0m\u001b[1;33m,\u001b[0m \u001b[0mlogs\u001b[0m\u001b[1;33m=\u001b[0m\u001b[1;32mNone\u001b[0m\u001b[1;33m)\u001b[0m\u001b[1;33m:\u001b[0m\u001b[1;33m\u001b[0m\u001b[0m\n",
      "\u001b[1;32mD:\\ProgramFiles\\Anaconda3\\lib\\site-packages\\keras\\utils\\generic_utils.py\u001b[0m in \u001b[0;36mupdate\u001b[1;34m(self, current, values)\u001b[0m\n\u001b[0;32m    422\u001b[0m \u001b[1;33m\u001b[0m\u001b[0m\n\u001b[0;32m    423\u001b[0m             \u001b[0msys\u001b[0m\u001b[1;33m.\u001b[0m\u001b[0mstdout\u001b[0m\u001b[1;33m.\u001b[0m\u001b[0mwrite\u001b[0m\u001b[1;33m(\u001b[0m\u001b[0minfo\u001b[0m\u001b[1;33m)\u001b[0m\u001b[1;33m\u001b[0m\u001b[0m\n\u001b[1;32m--> 424\u001b[1;33m             \u001b[0msys\u001b[0m\u001b[1;33m.\u001b[0m\u001b[0mstdout\u001b[0m\u001b[1;33m.\u001b[0m\u001b[0mflush\u001b[0m\u001b[1;33m(\u001b[0m\u001b[1;33m)\u001b[0m\u001b[1;33m\u001b[0m\u001b[0m\n\u001b[0m\u001b[0;32m    425\u001b[0m \u001b[1;33m\u001b[0m\u001b[0m\n\u001b[0;32m    426\u001b[0m         \u001b[1;32melif\u001b[0m \u001b[0mself\u001b[0m\u001b[1;33m.\u001b[0m\u001b[0mverbose\u001b[0m \u001b[1;33m==\u001b[0m \u001b[1;36m2\u001b[0m\u001b[1;33m:\u001b[0m\u001b[1;33m\u001b[0m\u001b[0m\n",
      "\u001b[1;32mD:\\ProgramFiles\\Anaconda3\\lib\\site-packages\\ipykernel\\iostream.py\u001b[0m in \u001b[0;36mflush\u001b[1;34m(self)\u001b[0m\n\u001b[0;32m    340\u001b[0m                 \u001b[0mself\u001b[0m\u001b[1;33m.\u001b[0m\u001b[0mpub_thread\u001b[0m\u001b[1;33m.\u001b[0m\u001b[0mschedule\u001b[0m\u001b[1;33m(\u001b[0m\u001b[0mevt\u001b[0m\u001b[1;33m.\u001b[0m\u001b[0mset\u001b[0m\u001b[1;33m)\u001b[0m\u001b[1;33m\u001b[0m\u001b[0m\n\u001b[0;32m    341\u001b[0m                 \u001b[1;31m# and give a timeout to avoid\u001b[0m\u001b[1;33m\u001b[0m\u001b[1;33m\u001b[0m\u001b[0m\n\u001b[1;32m--> 342\u001b[1;33m                 \u001b[1;32mif\u001b[0m \u001b[1;32mnot\u001b[0m \u001b[0mevt\u001b[0m\u001b[1;33m.\u001b[0m\u001b[0mwait\u001b[0m\u001b[1;33m(\u001b[0m\u001b[0mself\u001b[0m\u001b[1;33m.\u001b[0m\u001b[0mflush_timeout\u001b[0m\u001b[1;33m)\u001b[0m\u001b[1;33m:\u001b[0m\u001b[1;33m\u001b[0m\u001b[0m\n\u001b[0m\u001b[0;32m    343\u001b[0m                     \u001b[1;31m# write directly to __stderr__ instead of warning because\u001b[0m\u001b[1;33m\u001b[0m\u001b[1;33m\u001b[0m\u001b[0m\n\u001b[0;32m    344\u001b[0m                     \u001b[1;31m# if this is happening sys.stderr may be the problem.\u001b[0m\u001b[1;33m\u001b[0m\u001b[1;33m\u001b[0m\u001b[0m\n",
      "\u001b[1;32mD:\\ProgramFiles\\Anaconda3\\lib\\threading.py\u001b[0m in \u001b[0;36mwait\u001b[1;34m(self, timeout)\u001b[0m\n\u001b[0;32m    549\u001b[0m             \u001b[0msignaled\u001b[0m \u001b[1;33m=\u001b[0m \u001b[0mself\u001b[0m\u001b[1;33m.\u001b[0m\u001b[0m_flag\u001b[0m\u001b[1;33m\u001b[0m\u001b[0m\n\u001b[0;32m    550\u001b[0m             \u001b[1;32mif\u001b[0m \u001b[1;32mnot\u001b[0m \u001b[0msignaled\u001b[0m\u001b[1;33m:\u001b[0m\u001b[1;33m\u001b[0m\u001b[0m\n\u001b[1;32m--> 551\u001b[1;33m                 \u001b[0msignaled\u001b[0m \u001b[1;33m=\u001b[0m \u001b[0mself\u001b[0m\u001b[1;33m.\u001b[0m\u001b[0m_cond\u001b[0m\u001b[1;33m.\u001b[0m\u001b[0mwait\u001b[0m\u001b[1;33m(\u001b[0m\u001b[0mtimeout\u001b[0m\u001b[1;33m)\u001b[0m\u001b[1;33m\u001b[0m\u001b[0m\n\u001b[0m\u001b[0;32m    552\u001b[0m             \u001b[1;32mreturn\u001b[0m \u001b[0msignaled\u001b[0m\u001b[1;33m\u001b[0m\u001b[0m\n\u001b[0;32m    553\u001b[0m \u001b[1;33m\u001b[0m\u001b[0m\n",
      "\u001b[1;32mD:\\ProgramFiles\\Anaconda3\\lib\\threading.py\u001b[0m in \u001b[0;36mwait\u001b[1;34m(self, timeout)\u001b[0m\n\u001b[0;32m    297\u001b[0m             \u001b[1;32melse\u001b[0m\u001b[1;33m:\u001b[0m\u001b[1;33m\u001b[0m\u001b[0m\n\u001b[0;32m    298\u001b[0m                 \u001b[1;32mif\u001b[0m \u001b[0mtimeout\u001b[0m \u001b[1;33m>\u001b[0m \u001b[1;36m0\u001b[0m\u001b[1;33m:\u001b[0m\u001b[1;33m\u001b[0m\u001b[0m\n\u001b[1;32m--> 299\u001b[1;33m                     \u001b[0mgotit\u001b[0m \u001b[1;33m=\u001b[0m \u001b[0mwaiter\u001b[0m\u001b[1;33m.\u001b[0m\u001b[0macquire\u001b[0m\u001b[1;33m(\u001b[0m\u001b[1;32mTrue\u001b[0m\u001b[1;33m,\u001b[0m \u001b[0mtimeout\u001b[0m\u001b[1;33m)\u001b[0m\u001b[1;33m\u001b[0m\u001b[0m\n\u001b[0m\u001b[0;32m    300\u001b[0m                 \u001b[1;32melse\u001b[0m\u001b[1;33m:\u001b[0m\u001b[1;33m\u001b[0m\u001b[0m\n\u001b[0;32m    301\u001b[0m                     \u001b[0mgotit\u001b[0m \u001b[1;33m=\u001b[0m \u001b[0mwaiter\u001b[0m\u001b[1;33m.\u001b[0m\u001b[0macquire\u001b[0m\u001b[1;33m(\u001b[0m\u001b[1;32mFalse\u001b[0m\u001b[1;33m)\u001b[0m\u001b[1;33m\u001b[0m\u001b[0m\n",
      "\u001b[1;31mKeyboardInterrupt\u001b[0m: "
     ]
    }
   ],
   "source": [
    "# Training model\n",
    "model.fit(train_X[::1], train_y[::1],\n",
    "          batch_size=64,\n",
    "          epochs=2500,\n",
    "          validation_data=(valid_X[::1],valid_y[::1]), \n",
    "          callbacks=[checkpointer, early_stopping, history], \n",
    "          shuffle= True)"
   ]
  },
  {
   "cell_type": "code",
   "execution_count": 55,
   "metadata": {},
   "outputs": [
    {
     "data": {
      "image/png": "[encoded data removed]",
      "text/plain": [
       "<Figure size 720x360 with 1 Axes>"
      ]
     },
     "metadata": {},
     "output_type": "display_data"
    }
   ],
   "source": [
    "from matplotlib import pyplot as plt\n",
    "%matplotlib inline\n",
    "\n",
    "plt.figure(figsize=(10, 5))\n",
    "plt.title('Error')\n",
    "# plt.plot(np.arange(history.epoch), history.losses, color ='g', label='Error on training set') \n",
    "plt.plot(np.arange(history.epoch), history.valid_losses, color ='b', label='Error on validation set')\n",
    "plt.legend(loc='upper right')\n",
    "plt.xlabel('Iterations')\n",
    "plt.ylabel('y')\n",
    "plt.grid(True)\n",
    "plt.show()"
   ]
  },
  {
   "cell_type": "code",
   "execution_count": null,
   "metadata": {},
   "outputs": [],
   "source": []
  }
 ],
 "metadata": {
  "kernelspec": {
   "display_name": "Python 3",
   "language": "python",
   "name": "python3"
  },
  "language_info": {
   "codemirror_mode": {
    "name": "ipython",
    "version": 3
   },
   "file_extension": ".py",
   "mimetype": "text/x-python",
   "name": "python",
   "nbconvert_exporter": "python",
   "pygments_lexer": "ipython3",
   "version": "3.6.5"
  }
 },
 "nbformat": 4,
 "nbformat_minor": 2
}
