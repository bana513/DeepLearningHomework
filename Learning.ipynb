{
 "cells": [
  {
   "cell_type": "code",
   "execution_count": 122,
   "metadata": {},
   "outputs": [
    {
     "name": "stdout",
     "output_type": "stream",
     "text": [
      "{'date': 1483228800, 'high': 965.00000066, 'low': 964.00000002, 'open': 965.00000055, 'close': 964.00000127, 'volume': 5398.83711674, 'quoteVolume': 5.59672254, 'weightedAverage': 964.64262399}\n"
     ]
    }
   ],
   "source": [
    "import urllib.request, json \n",
    "\n",
    "# 5min BTC/USDT chart form Poloniex since 2017-01-01T00:00:00+00:00 till 2018-10-14T20:00:00+00:00\n",
    "with urllib.request.urlopen(\"https://poloniex.com/public?command=returnChartData&currencyPair=USDT_BTC&start=1483228800&end=1539547200&period=300\") as url:\n",
    "    data = json.loads(url.read().decode())\n",
    "\n",
    "print(data[0])"
   ]
  },
  {
   "cell_type": "code",
   "execution_count": 168,
   "metadata": {},
   "outputs": [
    {
     "data": {
      "text/html": [
       "<div>\n",
       "<style scoped>\n",
       "    .dataframe tbody tr th:only-of-type {\n",
       "        vertical-align: middle;\n",
       "    }\n",
       "\n",
       "    .dataframe tbody tr th {\n",
       "        vertical-align: top;\n",
       "    }\n",
       "\n",
       "    .dataframe thead th {\n",
       "        text-align: right;\n",
       "    }\n",
       "</style>\n",
       "<table border=\"1\" class=\"dataframe\">\n",
       "  <thead>\n",
       "    <tr style=\"text-align: right;\">\n",
       "      <th></th>\n",
       "      <th>date</th>\n",
       "      <th>weightedAverage</th>\n",
       "      <th>low</th>\n",
       "      <th>high</th>\n",
       "      <th>open</th>\n",
       "      <th>close</th>\n",
       "      <th>quoteVolume</th>\n",
       "    </tr>\n",
       "  </thead>\n",
       "  <tbody>\n",
       "    <tr>\n",
       "      <th>0</th>\n",
       "      <td>1483228800</td>\n",
       "      <td>964.642624</td>\n",
       "      <td>964.000000</td>\n",
       "      <td>965.000001</td>\n",
       "      <td>965.000001</td>\n",
       "      <td>964.000001</td>\n",
       "      <td>5.596723</td>\n",
       "    </tr>\n",
       "    <tr>\n",
       "      <th>1</th>\n",
       "      <td>1483229100</td>\n",
       "      <td>965.858035</td>\n",
       "      <td>964.000002</td>\n",
       "      <td>966.150000</td>\n",
       "      <td>966.150000</td>\n",
       "      <td>964.000002</td>\n",
       "      <td>0.087282</td>\n",
       "    </tr>\n",
       "    <tr>\n",
       "      <th>2</th>\n",
       "      <td>1483229400</td>\n",
       "      <td>963.946565</td>\n",
       "      <td>962.028165</td>\n",
       "      <td>966.149988</td>\n",
       "      <td>964.050000</td>\n",
       "      <td>964.000000</td>\n",
       "      <td>2.737368</td>\n",
       "    </tr>\n",
       "    <tr>\n",
       "      <th>3</th>\n",
       "      <td>1483229700</td>\n",
       "      <td>962.024978</td>\n",
       "      <td>961.700000</td>\n",
       "      <td>964.000000</td>\n",
       "      <td>962.028165</td>\n",
       "      <td>962.200001</td>\n",
       "      <td>3.550087</td>\n",
       "    </tr>\n",
       "    <tr>\n",
       "      <th>4</th>\n",
       "      <td>1483230000</td>\n",
       "      <td>963.568648</td>\n",
       "      <td>962.769304</td>\n",
       "      <td>964.677377</td>\n",
       "      <td>964.000011</td>\n",
       "      <td>962.849999</td>\n",
       "      <td>0.083323</td>\n",
       "    </tr>\n",
       "  </tbody>\n",
       "</table>\n",
       "</div>"
      ],
      "text/plain": [
       "         date  weightedAverage         low        high        open  \\\n",
       "0  1483228800       964.642624  964.000000  965.000001  965.000001   \n",
       "1  1483229100       965.858035  964.000002  966.150000  966.150000   \n",
       "2  1483229400       963.946565  962.028165  966.149988  964.050000   \n",
       "3  1483229700       962.024978  961.700000  964.000000  962.028165   \n",
       "4  1483230000       963.568648  962.769304  964.677377  964.000011   \n",
       "\n",
       "        close  quoteVolume  \n",
       "0  964.000001     5.596723  \n",
       "1  964.000002     0.087282  \n",
       "2  964.000000     2.737368  \n",
       "3  962.200001     3.550087  \n",
       "4  962.849999     0.083323  "
      ]
     },
     "execution_count": 168,
     "metadata": {},
     "output_type": "execute_result"
    }
   ],
   "source": [
    "import csv\n",
    "import numpy as np\n",
    "import pandas as pd\n",
    "\n",
    "\n",
    "# df = pd.DataFrame(data=data, columns=['date', 'weightedAverage', 'low', 'high', 'open', 'close', 'quoteVolume'])\n",
    "\n",
    "# df = df.fillna(method='ffill')\n",
    "# df.to_csv(\"poloniex_usdt_btc_20170101_weightedAverage_300.csv\", sep=\";\", index=False)\n",
    "\n",
    "# Data already downloaded\n",
    "df = pd.read_csv(\"poloniex_usdt_btc_20170101_weightedAverage_300.csv\", sep=\";\", index_col=None)\n",
    "\n",
    "df.head()"
   ]
  },
  {
   "cell_type": "code",
   "execution_count": 169,
   "metadata": {},
   "outputs": [
    {
     "name": "stdout",
     "output_type": "stream",
     "text": [
      "(187729, 7)\n"
     ]
    }
   ],
   "source": [
    "# df = df[-60000:]\n",
    "print(df.shape)"
   ]
  },
  {
   "cell_type": "code",
   "execution_count": 170,
   "metadata": {},
   "outputs": [],
   "source": [
    "# Turn dataframe into a numpy floating point array\n",
    "df_values = df.values\n",
    "timestamps = df_values[:, 0]\n",
    "dataset = df_values[:, 1:].astype(\"float\")"
   ]
  },
  {
   "cell_type": "code",
   "execution_count": 241,
   "metadata": {},
   "outputs": [],
   "source": [
    "from sklearn.preprocessing import MinMaxScaler\n",
    "\n",
    "scaler_window_size = 1000\n",
    "scaled_data = np.ndarray(dataset.shape)\n",
    "\n",
    "# Normalize data\n",
    "scaler = MinMaxScaler().fit(np.array(dataset[0:scaler_window_size]))\n",
    "\n",
    "for i in range(0, dataset.shape[0]//scaler_window_size):   \n",
    "    scaled_data[i*scaler_window_size:(i+1)*scaler_window_size] = scaler.transform(np.array(dataset[i*scaler_window_size:(i+1)*scaler_window_size]))\n",
    "    scaler = MinMaxScaler().fit(np.array(dataset[i*scaler_window_size:(i+1)*scaler_window_size]))\n",
    "    \n",
    "scaled_data[i*scaler_window_size:] = scaler.transform(np.array(dataset[i*scaler_window_size:]))\n",
    "\n",
    "np.savetxt(\"scaled_data.csv\", scaled_data, delimiter=\";\")"
   ]
  },
  {
   "cell_type": "code",
   "execution_count": 242,
   "metadata": {},
   "outputs": [],
   "source": [
    "# Split the dataset into training (70%), cross validation (20%) and test (10%) set\n",
    "samples_num = scaled_data.shape[0]\n",
    "\n",
    "valid_split = 0.1\n",
    "test_split = 0.01\n",
    "\n",
    "train_full_window = int((samples_num//scaler_window_size) * (1-valid_split-test_split)) * scaler_window_size\n",
    "valid_full_window = int((samples_num//scaler_window_size) * (valid_split)) * scaler_window_size\n",
    "\n",
    "dataset_train = scaled_data[0:train_full_window]\n",
    "dataset_valid = scaled_data[train_full_window:train_full_window+valid_full_window]\n",
    "dataset_test = scaled_data[train_full_window+valid_full_window:]"
   ]
  },
  {
   "cell_type": "code",
   "execution_count": 243,
   "metadata": {},
   "outputs": [
    {
     "name": "stdout",
     "output_type": "stream",
     "text": [
      "(166000, 6)\n",
      "(18000, 6)\n",
      "(3729, 6)\n"
     ]
    }
   ],
   "source": [
    "print(dataset_train.shape)\n",
    "print(dataset_valid.shape)\n",
    "print(dataset_test.shape)"
   ]
  },
  {
   "cell_type": "code",
   "execution_count": 244,
   "metadata": {},
   "outputs": [
    {
     "name": "stdout",
     "output_type": "stream",
     "text": [
      "[[0.0498219  0.05769549 0.03858467 0.05534237 0.05037205 0.03290795]\n",
      " [0.05970707 0.0576955  0.04793444 0.06462746 0.05037206 0.00051321]\n",
      " [0.04416071 0.04139663 0.04793434 0.04767206 0.05037204 0.01609534]\n",
      " [0.02853208 0.03868408 0.03045442 0.03134778 0.0359852  0.02087402]\n",
      " [0.04108705 0.04752276 0.03596166 0.04726846 0.04118044 0.00048993]]\n"
     ]
    }
   ],
   "source": [
    "print(dataset_train[:5])"
   ]
  },
  {
   "cell_type": "code",
   "execution_count": 245,
   "metadata": {},
   "outputs": [],
   "source": [
    "# Makes a training examples from year data with a timesteps window size\n",
    "\n",
    "def makeXy(data, timesteps, scaler_window_size = 999999999):\n",
    "    X = []\n",
    "    y = []\n",
    "    \n",
    "    for i in range(timesteps, data.shape[0]):\n",
    "        if((i-timesteps)//scaler_window_size == i//scaler_window_size):\n",
    "            X.append(list(data[i-timesteps:i]))\n",
    "            y.append(data[i])\n",
    "        \n",
    "    X, y = np.array(X), np.array(y)\n",
    "    return X, y"
   ]
  },
  {
   "cell_type": "code",
   "execution_count": 246,
   "metadata": {},
   "outputs": [
    {
     "name": "stdout",
     "output_type": "stream",
     "text": [
      "(166000, 6)\n"
     ]
    }
   ],
   "source": [
    "print(np.array(dataset_train).shape)"
   ]
  },
  {
   "cell_type": "code",
   "execution_count": 247,
   "metadata": {},
   "outputs": [],
   "source": [
    "# from sklearn.preprocessing import StandardScaler\n",
    "# from sklearn.externals import joblib\n",
    "\n",
    "# scaler_window_size = 5000\n",
    "# X_train = np.ndarray(dataset_train.shape)\n",
    "\n",
    "# # Normalize data\n",
    "# for i in range(dataset_train.shape[0]//scaler_window_size):   \n",
    "#     scaler = StandardScaler().fit(np.array(dataset_train[i*scaler_window_size:(i+1)*scaler_window_size]))\n",
    "#     X_train[i*scaler_window_size:(i+1)*scaler_window_size] = scaler.transform(np.array(dataset_train[i*scaler_window_size:(i+1)*scaler_window_size]))\n",
    "    \n",
    "# X_train[i*scaler_window_size:] = scaler.transform(np.array(dataset_train[i*scaler_window_size:]))\n",
    "\n",
    "# # scaler = StandardScaler().fit(np.array(dataset_train[110000:120000]))\n",
    "# # X_train = scaler.transform(np.array(dataset_train))\n",
    "# X_valid = scaler.transform(np.array(dataset_valid))\n",
    "# X_test = scaler.transform(np.array(dataset_test))\n",
    "\n",
    "# # Saving scaler for prediction\n",
    "# scaler_filename = \"scaler.save\"\n",
    "# joblib.dump(scaler, scaler_filename) \n",
    "\n",
    "# print (\"X_train:\\n\" + str(X_train))\n",
    "# print (\"\\nX_valid:\\n\" + str(X_valid))\n",
    "# print (\"\\nX_test:\\n\" + str(X_test))"
   ]
  },
  {
   "cell_type": "code",
   "execution_count": 248,
   "metadata": {},
   "outputs": [
    {
     "data": {
      "image/png": "[encoded data removed]",
      "text/plain": [
       "<Figure size 1296x360 with 1 Axes>"
      ]
     },
     "metadata": {
      "needs_background": "light"
     },
     "output_type": "display_data"
    },
    {
     "data": {
      "image/png": "[encoded data removed]",
      "text/plain": [
       "<Figure size 1296x360 with 1 Axes>"
      ]
     },
     "metadata": {
      "needs_background": "light"
     },
     "output_type": "display_data"
    }
   ],
   "source": [
    "import matplotlib.pyplot as plt\n",
    "%matplotlib inline\n",
    "\n",
    "plt.figure(figsize=(18, 5))\n",
    "plt.title('Weighted average - original')\n",
    "plt.plot(dataset_train[:,0])\n",
    "plt.show()\n",
    "\n",
    "plt.figure(figsize=(18, 5))\n",
    "plt.title('Weighted average - scaled')\n",
    "plt.plot(X_train[:,0])\n",
    "plt.show()"
   ]
  },
  {
   "cell_type": "code",
   "execution_count": 262,
   "metadata": {},
   "outputs": [
    {
     "name": "stdout",
     "output_type": "stream",
     "text": [
      "(98410, 250, 6)\n",
      "(98410, 6)\n"
     ]
    }
   ],
   "source": [
    "import numpy as np\n",
    "\n",
    "timestep = 250 # Make decision from last 'timestep' candles\n",
    "\n",
    "# Create training examples\n",
    "\n",
    "train_X, train_y = makeXy(X_train, timestep, scaler_window_size)\n",
    "valid_X, valid_y = makeXy(X_valid, timestep, scaler_window_size)\n",
    "test_X, test_y = makeXy(X_test, timestep, scaler_window_size)\n",
    "    \n",
    "print(train_X.shape)\n",
    "print(train_y.shape)\n",
    "\n",
    "# train_X = train_X.reshape(train_X.shape[0],-1)\n",
    "# valid_X = valid_X.reshape(valid_X.shape[0],-1)\n",
    "# test_X = test_X.reshape(test_X.shape[0],-1)\n",
    "\n",
    "# print(train_X.shape)\n",
    "# print(train_y.shape)"
   ]
  },
  {
   "cell_type": "code",
   "execution_count": 263,
   "metadata": {},
   "outputs": [],
   "source": [
    "# print(train_X[0])\n",
    "# print(train_y[0])"
   ]
  },
  {
   "cell_type": "code",
   "execution_count": 264,
   "metadata": {},
   "outputs": [],
   "source": [
    "import tensorflow as tf\n",
    "from keras import backend as K\n",
    "\n",
    "num_cores = 6\n",
    "\n",
    "num_CPU = 1\n",
    "num_GPU = 1\n",
    "\n",
    "config = tf.ConfigProto(intra_op_parallelism_threads=num_cores,\\\n",
    "        inter_op_parallelism_threads=num_cores, allow_soft_placement=True,\\\n",
    "        device_count = {'CPU' : num_CPU, 'GPU' : num_GPU})\n",
    "config.gpu_options.allow_growth = True\n",
    "session = tf.Session(config=config)\n",
    "K.set_session(session)\n",
    "\n",
    "from keras.models import Sequential\n",
    "from keras.layers.core import Dense, Activation\n",
    "from keras.callbacks import Callback\n",
    "from keras.optimizers import Adam\n",
    "from keras.layers import Dropout, Conv1D, Flatten, MaxPooling1D, LSTM\n",
    "from keras import regularizers\n",
    "from tensorflow import set_random_seed\n",
    "\n",
    "# Set random seed to always predict the same values\n",
    "np.random.seed(1)\n",
    "set_random_seed(2) # Tensoflow"
   ]
  },
  {
   "cell_type": "code",
   "execution_count": 265,
   "metadata": {},
   "outputs": [],
   "source": [
    "# Saving loss and acc values\n",
    "\n",
    "class TrainingHistory(Callback):\n",
    "\n",
    "    def on_train_begin(self, logs={}):\n",
    "        self.losses = []\n",
    "        self.valid_losses = []\n",
    "        self.accs = []\n",
    "        self.valid_accs = []\n",
    "        self.epoch = 0\n",
    "    \n",
    "    def on_epoch_end(self, epoch, logs={}):\n",
    "        self.losses.append(logs.get('loss'))\n",
    "        self.valid_losses.append(logs.get('val_loss'))\n",
    "        self.accs.append(logs.get('acc'))\n",
    "        self.valid_accs.append(logs.get('val_acc'))\n",
    "        self.epoch += 1\n",
    "            \n",
    "history = TrainingHistory()"
   ]
  },
  {
   "cell_type": "code",
   "execution_count": 266,
   "metadata": {},
   "outputs": [
    {
     "name": "stdout",
     "output_type": "stream",
     "text": [
      "(98410, 250, 6)\n",
      "(6,)\n"
     ]
    }
   ],
   "source": [
    "# train_X = np.expand_dims(train_X, axis=2)\n",
    "print(train_X.shape)\n",
    "print(train_y[0].shape)"
   ]
  },
  {
   "cell_type": "code",
   "execution_count": 290,
   "metadata": {},
   "outputs": [],
   "source": [
    "# Create model\n",
    "model = Sequential()\n",
    "\n",
    "# model.add(Conv1D(kernel_size = (3), filters = 64, input_shape=train_X[0].shape, activation='relu'))\n",
    "# model.add(MaxPooling1D(pool_size = (2), strides=(2)))\n",
    "# model.add(Conv1D(kernel_size = (3), filters = 64, activation='relu'))\n",
    "# model.add(MaxPooling1D(pool_size = (2), strides=(2)))\n",
    "# model.add(Dense(512, activation='relu'))\n",
    "# model.add(LSTM(128, input_shape=train_X[0].shape))\n",
    "# # model.add(Flatten(input_shape=train_X[0].shape))\n",
    "# model.add(Dense(512, activation='relu'))\n",
    "# model.add(Dense(256, activation='relu'))\n",
    "# model.add(Dense(train_y[0].shape[0]))\n",
    "\n",
    "model.add(LSTM(64, input_shape=train_X[0].shape, return_sequences = True, return_state = False))\n",
    "model.add(Flatten())\n",
    "# model.add(Flatten(input_shape=train_X[0].shape))\n",
    "model.add(Dense(128, activation='relu'))\n",
    "model.add(Dense(256, activation='relu'))\n",
    "model.add(Dense(256, activation='relu'))\n",
    "model.add(Dense(128, activation='relu'))\n",
    "# model.add(Dense(256, activation='relu'))\n",
    "model.add(Dense(train_y[0].shape[0]))\n",
    "\n",
    "# model.add(Conv1D(kernel_size = (5), filters = 64, activation='relu'))\n",
    "# model.add(MaxPooling1D(pool_size = (2), strides=(2)))\n",
    "# model.add(Conv1D(kernel_size = (3), filters = 64, activation='relu'))\n",
    "# model.add(MaxPooling1D(pool_size = (2), strides=(2)))\n",
    "# model.add(Flatten())\n",
    "# model.add(Dense(100, activation='relu'))\n",
    "# model.add(Dropout(0.5))\n",
    "# model.add(Dense(100, activation='relu'))\n",
    "# model.add(Dropout(0.5))\n",
    "# model.add(Dense(80, activation='sigmoid'))\n",
    "# model.add(Dropout(0.5))\n",
    "# model.add(Dense(60, activation='sigmoid'))\n",
    "# model.add(Dropout(0.5))\n",
    "# model.add(Dense(1, activation='sigmoid'))\n",
    "\n",
    "model.compile(loss='mean_squared_error',\n",
    "              optimizer= Adam())\n",
    "\n",
    "model.save('model.h5') # Saving model for prediction\n"
   ]
  },
  {
   "cell_type": "code",
   "execution_count": 291,
   "metadata": {},
   "outputs": [
    {
     "name": "stdout",
     "output_type": "stream",
     "text": [
      "_________________________________________________________________\n",
      "Layer (type)                 Output Shape              Param #   \n",
      "=================================================================\n",
      "lstm_32 (LSTM)               (None, 250, 64)           18176     \n",
      "_________________________________________________________________\n",
      "flatten_11 (Flatten)         (None, 16000)             0         \n",
      "_________________________________________________________________\n",
      "dense_60 (Dense)             (None, 128)               2048128   \n",
      "_________________________________________________________________\n",
      "dense_61 (Dense)             (None, 256)               33024     \n",
      "_________________________________________________________________\n",
      "dense_62 (Dense)             (None, 256)               65792     \n",
      "_________________________________________________________________\n",
      "dense_63 (Dense)             (None, 128)               32896     \n",
      "_________________________________________________________________\n",
      "dense_64 (Dense)             (None, 6)                 774       \n",
      "=================================================================\n",
      "Total params: 2,198,790\n",
      "Trainable params: 2,198,790\n",
      "Non-trainable params: 0\n",
      "_________________________________________________________________\n"
     ]
    }
   ],
   "source": [
    "model.summary()"
   ]
  },
  {
   "cell_type": "code",
   "execution_count": 292,
   "metadata": {},
   "outputs": [],
   "source": [
    "def get_model_memory_usage(batch_size, model):\n",
    "    import numpy as np\n",
    "    from keras import backend as K\n",
    "\n",
    "    shapes_mem_count = 0\n",
    "    for l in model.layers:\n",
    "        single_layer_mem = 1\n",
    "        for s in l.output_shape:\n",
    "            if s is None:\n",
    "                continue\n",
    "            single_layer_mem *= s\n",
    "        shapes_mem_count += single_layer_mem\n",
    "\n",
    "    trainable_count = np.sum([K.count_params(p) for p in set(model.trainable_weights)])\n",
    "    non_trainable_count = np.sum([K.count_params(p) for p in set(model.non_trainable_weights)])\n",
    "\n",
    "    total_memory = 4.0*batch_size*(shapes_mem_count + trainable_count + non_trainable_count)\n",
    "    gbytes = np.round(total_memory / (1024.0 ** 3), 3)\n",
    "    return gbytes"
   ]
  },
  {
   "cell_type": "code",
   "execution_count": 293,
   "metadata": {},
   "outputs": [
    {
     "name": "stdout",
     "output_type": "stream",
     "text": [
      "1.064\n"
     ]
    }
   ],
   "source": [
    "print(get_model_memory_usage(128, model))"
   ]
  },
  {
   "cell_type": "code",
   "execution_count": 284,
   "metadata": {},
   "outputs": [],
   "source": [
    "# Setting up early stopping and weight saving on actually best solutions\n",
    "\n",
    "from keras.callbacks import EarlyStopping\n",
    "patience=20\n",
    "early_stopping=EarlyStopping(patience=patience, verbose=1)\n",
    "\n",
    "from keras.callbacks import ModelCheckpoint\n",
    "checkpointer=ModelCheckpoint(filepath='weights.hdf5', save_best_only=True, verbose=1)"
   ]
  },
  {
   "cell_type": "code",
   "execution_count": 294,
   "metadata": {
    "scrolled": true
   },
   "outputs": [
    {
     "name": "stdout",
     "output_type": "stream",
     "text": [
      "Train on 98410 samples, validate on 28046 samples\n",
      "Epoch 1/2500\n",
      "98410/98410 [==============================] - 105s 1ms/step - loss: 0.1565 - val_loss: 0.1910\n",
      "\n",
      "Epoch 00001: val_loss did not improve from 0.06427\n",
      "Epoch 2/2500\n",
      "98410/98410 [==============================] - 102s 1ms/step - loss: 0.1121 - val_loss: 0.1217\n",
      "\n",
      "Epoch 00002: val_loss did not improve from 0.06427\n",
      "Epoch 3/2500\n",
      "98410/98410 [==============================] - 103s 1ms/step - loss: 0.1066 - val_loss: 0.1271\n",
      "\n",
      "Epoch 00003: val_loss did not improve from 0.06427\n",
      "Epoch 4/2500\n",
      "98410/98410 [==============================] - 102s 1ms/step - loss: 0.1040 - val_loss: 0.0918\n",
      "\n",
      "Epoch 00004: val_loss did not improve from 0.06427\n",
      "Epoch 5/2500\n",
      "98410/98410 [==============================] - 102s 1ms/step - loss: 0.1023 - val_loss: 0.0638\n",
      "\n",
      "Epoch 00005: val_loss improved from 0.06427 to 0.06385, saving model to weights.hdf5\n",
      "Epoch 6/2500\n",
      "98410/98410 [==============================] - 102s 1ms/step - loss: 0.1008 - val_loss: 0.0710\n",
      "\n",
      "Epoch 00006: val_loss did not improve from 0.06385\n",
      "Epoch 7/2500\n",
      "98410/98410 [==============================] - 102s 1ms/step - loss: 0.0970 - val_loss: 0.0563\n",
      "\n",
      "Epoch 00007: val_loss improved from 0.06385 to 0.05633, saving model to weights.hdf5\n",
      "Epoch 8/2500\n",
      "98410/98410 [==============================] - 102s 1ms/step - loss: 0.0965 - val_loss: 0.0690\n",
      "\n",
      "Epoch 00008: val_loss did not improve from 0.05633\n",
      "Epoch 9/2500\n",
      "98410/98410 [==============================] - 102s 1ms/step - loss: 0.0941 - val_loss: 0.0649\n",
      "\n",
      "Epoch 00009: val_loss did not improve from 0.05633\n",
      "Epoch 10/2500\n",
      "98410/98410 [==============================] - 102s 1ms/step - loss: 0.0906 - val_loss: 0.0587\n",
      "\n",
      "Epoch 00010: val_loss did not improve from 0.05633\n",
      "Epoch 11/2500\n",
      "98410/98410 [==============================] - 102s 1ms/step - loss: 0.0847 - val_loss: 0.0624\n",
      "\n",
      "Epoch 00011: val_loss did not improve from 0.05633\n",
      "Epoch 12/2500\n",
      "98410/98410 [==============================] - 102s 1ms/step - loss: 0.0806 - val_loss: 0.0628\n",
      "\n",
      "Epoch 00012: val_loss did not improve from 0.05633\n",
      "Epoch 13/2500\n",
      "98410/98410 [==============================] - 103s 1ms/step - loss: 0.0770 - val_loss: 0.0577\n",
      "\n",
      "Epoch 00013: val_loss did not improve from 0.05633\n",
      "Epoch 14/2500\n",
      "98410/98410 [==============================] - 103s 1ms/step - loss: 0.0738 - val_loss: 0.0604\n",
      "\n",
      "Epoch 00014: val_loss did not improve from 0.05633\n",
      "Epoch 15/2500\n",
      "98410/98410 [==============================] - 103s 1ms/step - loss: 0.0655 - val_loss: 0.0652\n",
      "\n",
      "Epoch 00015: val_loss did not improve from 0.05633\n",
      "Epoch 16/2500\n",
      "98410/98410 [==============================] - 103s 1ms/step - loss: 0.0632 - val_loss: 0.0622\n",
      "\n",
      "Epoch 00016: val_loss did not improve from 0.05633\n",
      "Epoch 17/2500\n",
      "98410/98410 [==============================] - 104s 1ms/step - loss: 0.0581 - val_loss: 0.0584\n",
      "\n",
      "Epoch 00017: val_loss did not improve from 0.05633\n",
      "Epoch 18/2500\n",
      "98410/98410 [==============================] - 103s 1ms/step - loss: 0.0542 - val_loss: 0.0839\n",
      "\n",
      "Epoch 00018: val_loss did not improve from 0.05633\n",
      "Epoch 19/2500\n",
      "98410/98410 [==============================] - 104s 1ms/step - loss: 0.0505 - val_loss: 0.0688\n",
      "\n",
      "Epoch 00019: val_loss did not improve from 0.05633\n",
      "Epoch 20/2500\n",
      "98410/98410 [==============================] - 103s 1ms/step - loss: 0.0473 - val_loss: 0.0570\n",
      "\n",
      "Epoch 00020: val_loss did not improve from 0.05633\n",
      "Epoch 21/2500\n",
      "98410/98410 [==============================] - 103s 1ms/step - loss: 0.0440 - val_loss: 0.0721\n",
      "\n",
      "Epoch 00021: val_loss did not improve from 0.05633\n",
      "Epoch 22/2500\n",
      "98410/98410 [==============================] - 104s 1ms/step - loss: 0.0407 - val_loss: 0.0720\n",
      "\n",
      "Epoch 00022: val_loss did not improve from 0.05633\n",
      "Epoch 23/2500\n",
      "98410/98410 [==============================] - 105s 1ms/step - loss: 0.0383 - val_loss: 0.0561\n",
      "\n",
      "Epoch 00023: val_loss improved from 0.05633 to 0.05606, saving model to weights.hdf5\n",
      "Epoch 24/2500\n",
      "98410/98410 [==============================] - 104s 1ms/step - loss: 0.0362 - val_loss: 0.0669\n",
      "\n",
      "Epoch 00024: val_loss did not improve from 0.05606\n",
      "Epoch 25/2500\n",
      "98410/98410 [==============================] - 104s 1ms/step - loss: 0.0345 - val_loss: 0.0622\n",
      "\n",
      "Epoch 00025: val_loss did not improve from 0.05606\n",
      "Epoch 26/2500\n",
      "98410/98410 [==============================] - 104s 1ms/step - loss: 0.0331 - val_loss: 0.0602\n",
      "\n",
      "Epoch 00026: val_loss did not improve from 0.05606\n",
      "Epoch 27/2500\n",
      "98410/98410 [==============================] - 103s 1ms/step - loss: 0.0313 - val_loss: 0.0619\n",
      "\n",
      "Epoch 00027: val_loss did not improve from 0.05606\n",
      "Epoch 28/2500\n",
      "98410/98410 [==============================] - 103s 1ms/step - loss: 0.0302 - val_loss: 0.0588\n",
      "\n",
      "Epoch 00028: val_loss did not improve from 0.05606\n",
      "Epoch 29/2500\n",
      "98410/98410 [==============================] - 103s 1ms/step - loss: 0.0290 - val_loss: 0.0584\n",
      "\n",
      "Epoch 00029: val_loss did not improve from 0.05606\n",
      "Epoch 30/2500\n",
      "98410/98410 [==============================] - 102s 1ms/step - loss: 0.0272 - val_loss: 0.0578\n",
      "\n",
      "Epoch 00030: val_loss did not improve from 0.05606\n",
      "Epoch 31/2500\n",
      "98410/98410 [==============================] - 103s 1ms/step - loss: 0.0256 - val_loss: 0.0670\n",
      "\n",
      "Epoch 00031: val_loss did not improve from 0.05606\n",
      "Epoch 32/2500\n",
      "98410/98410 [==============================] - 103s 1ms/step - loss: 0.0256 - val_loss: 0.0589\n",
      "\n",
      "Epoch 00032: val_loss did not improve from 0.05606\n",
      "Epoch 33/2500\n",
      "98410/98410 [==============================] - 103s 1ms/step - loss: 0.0244 - val_loss: 0.0592\n",
      "\n",
      "Epoch 00033: val_loss did not improve from 0.05606\n",
      "Epoch 34/2500\n",
      "98410/98410 [==============================] - 103s 1ms/step - loss: 0.0214 - val_loss: 0.0680\n",
      "\n",
      "Epoch 00034: val_loss did not improve from 0.05606\n",
      "Epoch 35/2500\n",
      "98410/98410 [==============================] - 102s 1ms/step - loss: 0.0213 - val_loss: 0.0744\n",
      "\n",
      "Epoch 00035: val_loss did not improve from 0.05606\n",
      "Epoch 36/2500\n",
      "98410/98410 [==============================] - 103s 1ms/step - loss: 0.0195 - val_loss: 0.0617\n",
      "\n",
      "Epoch 00036: val_loss did not improve from 0.05606\n",
      "Epoch 37/2500\n",
      "98410/98410 [==============================] - 103s 1ms/step - loss: 0.0191 - val_loss: 0.0576\n",
      "\n",
      "Epoch 00037: val_loss did not improve from 0.05606\n",
      "Epoch 38/2500\n",
      "98410/98410 [==============================] - 103s 1ms/step - loss: 0.0170 - val_loss: 0.0627\n",
      "\n",
      "Epoch 00038: val_loss did not improve from 0.05606\n",
      "Epoch 39/2500\n",
      "98410/98410 [==============================] - 103s 1ms/step - loss: 0.0188 - val_loss: 0.0701\n",
      "\n",
      "Epoch 00039: val_loss did not improve from 0.05606\n",
      "Epoch 40/2500\n",
      "98410/98410 [==============================] - 103s 1ms/step - loss: 0.0167 - val_loss: 0.0646\n",
      "\n",
      "Epoch 00040: val_loss did not improve from 0.05606\n",
      "Epoch 41/2500\n",
      "98410/98410 [==============================] - 103s 1ms/step - loss: 0.0164 - val_loss: 0.0600\n",
      "\n",
      "Epoch 00041: val_loss did not improve from 0.05606\n",
      "Epoch 42/2500\n",
      "98410/98410 [==============================] - 102s 1ms/step - loss: 0.0150 - val_loss: 0.0615\n",
      "\n",
      "Epoch 00042: val_loss did not improve from 0.05606\n",
      "Epoch 43/2500\n",
      "98410/98410 [==============================] - 103s 1ms/step - loss: 0.0141 - val_loss: 0.0718\n",
      "\n",
      "Epoch 00043: val_loss did not improve from 0.05606\n",
      "Epoch 00043: early stopping\n"
     ]
    },
    {
     "data": {
      "text/plain": [
       "<keras.callbacks.History at 0x1d45b95c6d8>"
      ]
     },
     "execution_count": 294,
     "metadata": {},
     "output_type": "execute_result"
    }
   ],
   "source": [
    "# Training model\n",
    "model.fit(train_X[::1], train_y[::1],\n",
    "          batch_size=512,\n",
    "          epochs=2500,\n",
    "          validation_data=(valid_X[::1],valid_y[::1]), \n",
    "          callbacks=[checkpointer, early_stopping, history], \n",
    "          shuffle= True)"
   ]
  },
  {
   "cell_type": "code",
   "execution_count": 71,
   "metadata": {},
   "outputs": [],
   "source": [
    "# model.save('weights.hdf5')"
   ]
  },
  {
   "cell_type": "code",
   "execution_count": null,
   "metadata": {},
   "outputs": [],
   "source": [
    "# Clear memory\n",
    "\n",
    "# K.clear_session() # Not working here\n",
    "\n",
    "# from numba import cuda\n",
    "# cuda.select_device(0)\n",
    "# cuda.close()"
   ]
  },
  {
   "cell_type": "code",
   "execution_count": 295,
   "metadata": {},
   "outputs": [
    {
     "data": {
      "image/png": "[encoded data removed]",
      "text/plain": [
       "<Figure size 720x360 with 1 Axes>"
      ]
     },
     "metadata": {
      "needs_background": "light"
     },
     "output_type": "display_data"
    }
   ],
   "source": [
    "from matplotlib import pyplot as plt\n",
    "%matplotlib inline\n",
    "\n",
    "plt.figure(figsize=(10, 5))\n",
    "plt.title('Error')\n",
    "plt.plot(np.arange(history.epoch), history.losses, color ='g', label='Error on training set') \n",
    "plt.plot(np.arange(history.epoch), history.valid_losses, color ='b', label='Error on validation set')\n",
    "plt.legend(loc='upper right')\n",
    "plt.xlabel('Iterations')\n",
    "plt.ylabel('Error')\n",
    "plt.grid(True)\n",
    "plt.show()"
   ]
  },
  {
   "cell_type": "code",
   "execution_count": null,
   "metadata": {},
   "outputs": [],
   "source": []
  }
 ],
 "metadata": {
  "kernelspec": {
   "display_name": "Python 3",
   "language": "python",
   "name": "python3"
  },
  "language_info": {
   "codemirror_mode": {
    "name": "ipython",
    "version": 3
   },
   "file_extension": ".py",
   "mimetype": "text/x-python",
   "name": "python",
   "nbconvert_exporter": "python",
   "pygments_lexer": "ipython3",
   "version": "3.6.7"
  }
 },
 "nbformat": 4,
 "nbformat_minor": 2
}
