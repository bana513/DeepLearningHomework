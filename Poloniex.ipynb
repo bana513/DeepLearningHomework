{
 "cells": [
  {
   "cell_type": "code",
   "execution_count": 3,
   "metadata": {},
   "outputs": [],
   "source": [
    "import urllib.request, json \n",
    "# 5min BTC/USDT chart form Poloniex since 2016-01-01T00:00:00+00:00 till 2018-10-12T14:20:00+00:00\n",
    "with urllib.request.urlopen(\"https://poloniex.com/public?command=returnChartData&currencyPair=USDT_BTC&start=1451606400&end=9999999999&period=300\") as url:\n",
    "    data = json.loads(url.read().decode())"
   ]
  },
  {
   "cell_type": "code",
   "execution_count": 4,
   "metadata": {},
   "outputs": [
    {
     "name": "stdout",
     "output_type": "stream",
     "text": [
      "{'quoteVolume': 0, 'open': 430.57315002, 'volume': 0, 'date': 1451606400, 'close': 430.57315002, 'low': 430.57315002, 'weightedAverage': 430.57315002, 'high': 430.57315002}\n"
     ]
    }
   ],
   "source": [
    "print(data[0])"
   ]
  },
  {
   "cell_type": "code",
   "execution_count": 5,
   "metadata": {},
   "outputs": [],
   "source": [
    "import csv\n",
    "\n",
    "import numpy as np\n",
    "\n",
    "with open(\"poloniex_usdt_btc_20160101_DOHLCV_300.csv\", \"w\", newline='') as f:\n",
    "    writer = csv.writer(f,delimiter=';')\n",
    "\n",
    "    writer.writerow(['date', 'open', 'high', 'low', 'close', 'volume'])\n",
    "    for line in data:\n",
    "        writer.writerow([line['date'], line['open'], line['high'],line['low'], line['close'], line['volume']])"
   ]
  },
  {
   "cell_type": "code",
   "execution_count": null,
   "metadata": {},
   "outputs": [],
   "source": []
  }
 ],
 "metadata": {
  "kernelspec": {
   "display_name": "Python 3",
   "language": "python",
   "name": "python3"
  },
  "language_info": {
   "codemirror_mode": {
    "name": "ipython",
    "version": 3
   },
   "file_extension": ".py",
   "mimetype": "text/x-python",
   "name": "python",
   "nbconvert_exporter": "python",
   "pygments_lexer": "ipython3",
   "version": "3.5.2"
  }
 },
 "nbformat": 4,
 "nbformat_minor": 2
}
