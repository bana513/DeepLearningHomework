{
 "cells": [
  {
   "cell_type": "code",
   "execution_count": 82,
   "metadata": {},
   "outputs": [],
   "source": [
    "import urllib.request, json \n",
    "with urllib.request.urlopen(\"https://poloniex.com/public?command=returnChartData&currencyPair=USDT_BTC&start=1451606400&end=9999999999&period=86400\") as url:\n",
    "    data = json.loads(url.read().decode())\n",
    "#     print(data)"
   ]
  },
  {
   "cell_type": "code",
   "execution_count": 5,
   "metadata": {},
   "outputs": [
    {
     "name": "stdout",
     "output_type": "stream",
     "text": [
      "6645.535\n",
      "6664.4615185\n",
      "6654.91816418\n",
      "6614.88980495\n",
      "6576.22094078\n",
      "6591.99999999\n",
      "6596.00726031\n",
      "6618.83980965\n"
     ]
    }
   ],
   "source": [
    "for line in data:\n",
    "    print(line['close'])"
   ]
  },
  {
   "cell_type": "code",
   "execution_count": 83,
   "metadata": {},
   "outputs": [],
   "source": [
    "import csv\n",
    "\n",
    "import numpy as np\n",
    "\n",
    "with open(\"poloniex_usdt_btc_20160101_DCV_86400.csv\", \"w\", newline='') as f:\n",
    "    writer = csv.writer(f,delimiter=';')\n",
    "\n",
    "    for line in data:\n",
    "#         d = np.array([line['date'], line['high'],line['low'], line['open'], line['close'], line['volume'], line['quoteVolume'], line['weightedAverage']])\n",
    "        writer.writerow([line['date'], line['close'], line['volume']])"
   ]
  },
  {
   "cell_type": "code",
   "execution_count": null,
   "metadata": {},
   "outputs": [],
   "source": []
  }
 ],
 "metadata": {
  "kernelspec": {
   "display_name": "Python 3",
   "language": "python",
   "name": "python3"
  },
  "language_info": {
   "codemirror_mode": {
    "name": "ipython",
    "version": 3
   },
   "file_extension": ".py",
   "mimetype": "text/x-python",
   "name": "python",
   "nbconvert_exporter": "python",
   "pygments_lexer": "ipython3",
   "version": "3.6.5"
  }
 },
 "nbformat": 4,
 "nbformat_minor": 2
}
